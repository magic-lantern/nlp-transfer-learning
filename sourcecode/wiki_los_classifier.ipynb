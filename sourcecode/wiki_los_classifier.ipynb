{
 "cells": [
  {
   "cell_type": "markdown",
   "metadata": {},
   "source": [
    "# Based on general purpose language model, train a Length of Stay classifier\n",
    "\n",
    "Instead of building from a MIMIC trained language model, use the general purpose ULMFit Wiki trained model\n",
    "\n",
    "This notebook is mostly a copy of mimic_nlp_classifier_los.ipynb - but with visualizations and some debugging output removed"
   ]
  },
  {
   "cell_type": "code",
   "execution_count": 1,
   "metadata": {},
   "outputs": [],
   "source": [
    "from fastai.text import *\n",
    "from sklearn.model_selection import train_test_split\n",
    "import glob\n",
    "import gc\n",
    "import altair as alt"
   ]
  },
  {
   "cell_type": "markdown",
   "metadata": {},
   "source": [
    "Setup filenames and paths"
   ]
  },
  {
   "cell_type": "code",
   "execution_count": 2,
   "metadata": {},
   "outputs": [],
   "source": [
    "# pandas doesn't understand ~, so provide full path\n",
    "base_path = Path.home() / 'mimic'\n",
    "\n",
    "# files used during processing - all aggregated here\n",
    "admissions_file = base_path/'ADMISSIONS.csv'\n",
    "notes_file = base_path/'NOTEEVENTS.csv'\n",
    "\n",
    "class_file = 'wiki_los_cl_data.pickle'\n",
    "notes_pickle_file = base_path/'noteevents.pickle'\n",
    "lm_file = 'cl_lm.pickle' # actual file is at base_path/lm_file but due to fastai function, have to pass file name separately\n",
    "init_model_file = base_path/'wiki_los_cl_head'\n",
    "cycles_file = base_path/'wiki_los_cl_num_iterations.pickle'\n",
    "enc_file = 'wiki_cl_enc'\n",
    "ft_file = 'wiki_los_cl_fine_tuned_'\n",
    "freeze_two = base_path/'wiki_los_cl_freeze_two'\n",
    "freeze_three = base_path/'wiki_los_cl_freeze_three'\n",
    "\n",
    "training_history_file = 'wiki_los_cl_history'"
   ]
  },
  {
   "cell_type": "markdown",
   "metadata": {},
   "source": [
    "Setup parameters for models"
   ]
  },
  {
   "cell_type": "code",
   "execution_count": 3,
   "metadata": {},
   "outputs": [],
   "source": [
    "pct_data_sample = 0.2\n",
    "lm_pct_data_sample = 0.1\n",
    "# how much to hold out for validation\n",
    "valid_pct = 0.2\n",
    "# for repeatability - different seed than used with language model\n",
    "seed = 1776\n",
    "lm_seed = 42\n",
    "# for classifier, on unfrozen/full network training\n",
    "# batch size of 128 GPU uses ?? GB RAM\n",
    "# batch size of 96 GPU uses 22 GB RAM\n",
    "# batch size of 48 GPU uses GB RAM\n",
    "bs=64"
   ]
  },
  {
   "cell_type": "code",
   "execution_count": 4,
   "metadata": {},
   "outputs": [],
   "source": [
    "# if this doesn't free memory, can restart Python kernel.\n",
    "# if that still doesn't work, try OS items mentioned here: https://docs.fast.ai/dev/gpu.html\n",
    "def release_mem():\n",
    "    gc.collect()\n",
    "    torch.cuda.empty_cache()\n",
    "release_mem()"
   ]
  },
  {
   "cell_type": "code",
   "execution_count": 5,
   "metadata": {},
   "outputs": [
    {
     "name": "stdout",
     "output_type": "stream",
     "text": [
      "Loading noteevent pickle file\n",
      "(2083180, 11)\n"
     ]
    }
   ],
   "source": [
    "orig_df = pd.DataFrame()\n",
    "if os.path.isfile(notes_pickle_file):\n",
    "    print('Loading noteevent pickle file')\n",
    "    orig_df = pd.read_pickle(notes_pickle_file)\n",
    "    print(orig_df.shape)\n",
    "else:\n",
    "    print('Could not find noteevent pickle file; creating it')\n",
    "    # run this the first time to covert CSV to Pickle file\n",
    "    orig_df = pd.read_csv(notes_file, low_memory=False, memory_map=True)\n",
    "    orig_df.to_pickle(notes_pickle_file)"
   ]
  },
  {
   "cell_type": "markdown",
   "metadata": {},
   "source": [
    "Since seed is different, this should be quite different than the language model dataset.\n",
    "\n",
    "Should I show details on how many records are in language model dataset?"
   ]
  },
  {
   "cell_type": "code",
   "execution_count": 6,
   "metadata": {},
   "outputs": [
    {
     "data": {
      "text/plain": [
       "(1851344, 11)"
      ]
     },
     "execution_count": 6,
     "metadata": {},
     "output_type": "execute_result"
    }
   ],
   "source": [
    "notes_df = orig_df[orig_df.HADM_ID.notnull()].copy()\n",
    "notes_df.HADM_ID = notes_df.HADM_ID.astype(int)\n",
    "notes_df.shape"
   ]
  },
  {
   "cell_type": "code",
   "execution_count": 7,
   "metadata": {},
   "outputs": [
    {
     "data": {
      "text/html": [
       "<div>\n",
       "<style scoped>\n",
       "    .dataframe tbody tr th:only-of-type {\n",
       "        vertical-align: middle;\n",
       "    }\n",
       "\n",
       "    .dataframe tbody tr th {\n",
       "        vertical-align: top;\n",
       "    }\n",
       "\n",
       "    .dataframe thead th {\n",
       "        text-align: right;\n",
       "    }\n",
       "</style>\n",
       "<table border=\"1\" class=\"dataframe\">\n",
       "  <thead>\n",
       "    <tr style=\"text-align: right;\">\n",
       "      <th></th>\n",
       "      <th>ROW_ID</th>\n",
       "      <th>SUBJECT_ID</th>\n",
       "      <th>HADM_ID</th>\n",
       "      <th>CHARTDATE</th>\n",
       "      <th>CHARTTIME</th>\n",
       "      <th>STORETIME</th>\n",
       "      <th>CATEGORY</th>\n",
       "      <th>DESCRIPTION</th>\n",
       "      <th>CGID</th>\n",
       "      <th>ISERROR</th>\n",
       "      <th>TEXT</th>\n",
       "    </tr>\n",
       "  </thead>\n",
       "  <tbody>\n",
       "    <tr>\n",
       "      <th>0</th>\n",
       "      <td>174</td>\n",
       "      <td>22532</td>\n",
       "      <td>167853</td>\n",
       "      <td>2151-08-04</td>\n",
       "      <td>NaN</td>\n",
       "      <td>NaN</td>\n",
       "      <td>Discharge summary</td>\n",
       "      <td>Report</td>\n",
       "      <td>NaN</td>\n",
       "      <td>NaN</td>\n",
       "      <td>Admission Date:  [**2151-7-16**]       Dischar...</td>\n",
       "    </tr>\n",
       "    <tr>\n",
       "      <th>1</th>\n",
       "      <td>175</td>\n",
       "      <td>13702</td>\n",
       "      <td>107527</td>\n",
       "      <td>2118-06-14</td>\n",
       "      <td>NaN</td>\n",
       "      <td>NaN</td>\n",
       "      <td>Discharge summary</td>\n",
       "      <td>Report</td>\n",
       "      <td>NaN</td>\n",
       "      <td>NaN</td>\n",
       "      <td>Admission Date:  [**2118-6-2**]       Discharg...</td>\n",
       "    </tr>\n",
       "    <tr>\n",
       "      <th>2</th>\n",
       "      <td>176</td>\n",
       "      <td>13702</td>\n",
       "      <td>167118</td>\n",
       "      <td>2119-05-25</td>\n",
       "      <td>NaN</td>\n",
       "      <td>NaN</td>\n",
       "      <td>Discharge summary</td>\n",
       "      <td>Report</td>\n",
       "      <td>NaN</td>\n",
       "      <td>NaN</td>\n",
       "      <td>Admission Date:  [**2119-5-4**]              D...</td>\n",
       "    </tr>\n",
       "    <tr>\n",
       "      <th>3</th>\n",
       "      <td>177</td>\n",
       "      <td>13702</td>\n",
       "      <td>196489</td>\n",
       "      <td>2124-08-18</td>\n",
       "      <td>NaN</td>\n",
       "      <td>NaN</td>\n",
       "      <td>Discharge summary</td>\n",
       "      <td>Report</td>\n",
       "      <td>NaN</td>\n",
       "      <td>NaN</td>\n",
       "      <td>Admission Date:  [**2124-7-21**]              ...</td>\n",
       "    </tr>\n",
       "    <tr>\n",
       "      <th>4</th>\n",
       "      <td>178</td>\n",
       "      <td>26880</td>\n",
       "      <td>135453</td>\n",
       "      <td>2162-03-25</td>\n",
       "      <td>NaN</td>\n",
       "      <td>NaN</td>\n",
       "      <td>Discharge summary</td>\n",
       "      <td>Report</td>\n",
       "      <td>NaN</td>\n",
       "      <td>NaN</td>\n",
       "      <td>Admission Date:  [**2162-3-3**]              D...</td>\n",
       "    </tr>\n",
       "  </tbody>\n",
       "</table>\n",
       "</div>"
      ],
      "text/plain": [
       "   ROW_ID  SUBJECT_ID  HADM_ID   CHARTDATE CHARTTIME STORETIME  \\\n",
       "0     174       22532   167853  2151-08-04       NaN       NaN   \n",
       "1     175       13702   107527  2118-06-14       NaN       NaN   \n",
       "2     176       13702   167118  2119-05-25       NaN       NaN   \n",
       "3     177       13702   196489  2124-08-18       NaN       NaN   \n",
       "4     178       26880   135453  2162-03-25       NaN       NaN   \n",
       "\n",
       "            CATEGORY DESCRIPTION  CGID  ISERROR  \\\n",
       "0  Discharge summary      Report   NaN      NaN   \n",
       "1  Discharge summary      Report   NaN      NaN   \n",
       "2  Discharge summary      Report   NaN      NaN   \n",
       "3  Discharge summary      Report   NaN      NaN   \n",
       "4  Discharge summary      Report   NaN      NaN   \n",
       "\n",
       "                                                TEXT  \n",
       "0  Admission Date:  [**2151-7-16**]       Dischar...  \n",
       "1  Admission Date:  [**2118-6-2**]       Discharg...  \n",
       "2  Admission Date:  [**2119-5-4**]              D...  \n",
       "3  Admission Date:  [**2124-7-21**]              ...  \n",
       "4  Admission Date:  [**2162-3-3**]              D...  "
      ]
     },
     "execution_count": 7,
     "metadata": {},
     "output_type": "execute_result"
    }
   ],
   "source": [
    "notes_df.head()"
   ]
  },
  {
   "cell_type": "code",
   "execution_count": 8,
   "metadata": {},
   "outputs": [
    {
     "name": "stdout",
     "output_type": "stream",
     "text": [
      "Loading ADMISSIONS.csv\n"
     ]
    },
    {
     "data": {
      "text/plain": [
       "(58976, 19)"
      ]
     },
     "execution_count": 8,
     "metadata": {},
     "output_type": "execute_result"
    }
   ],
   "source": [
    "print('Loading ADMISSIONS.csv')\n",
    "a_orig = pd.read_csv(admissions_file, low_memory=False, memory_map=True)\n",
    "a_orig.shape"
   ]
  },
  {
   "cell_type": "code",
   "execution_count": 9,
   "metadata": {},
   "outputs": [
    {
     "data": {
      "text/html": [
       "<div>\n",
       "<style scoped>\n",
       "    .dataframe tbody tr th:only-of-type {\n",
       "        vertical-align: middle;\n",
       "    }\n",
       "\n",
       "    .dataframe tbody tr th {\n",
       "        vertical-align: top;\n",
       "    }\n",
       "\n",
       "    .dataframe thead th {\n",
       "        text-align: right;\n",
       "    }\n",
       "</style>\n",
       "<table border=\"1\" class=\"dataframe\">\n",
       "  <thead>\n",
       "    <tr style=\"text-align: right;\">\n",
       "      <th></th>\n",
       "      <th>HADM_ID</th>\n",
       "      <th>ADMITTIME</th>\n",
       "      <th>DISCHTIME</th>\n",
       "      <th>admittime</th>\n",
       "      <th>dischtime</th>\n",
       "      <th>los</th>\n",
       "    </tr>\n",
       "  </thead>\n",
       "  <tbody>\n",
       "    <tr>\n",
       "      <th>0</th>\n",
       "      <td>165315</td>\n",
       "      <td>2196-04-09 12:26:00</td>\n",
       "      <td>2196-04-10 15:54:00</td>\n",
       "      <td>2196-04-09 12:26:00</td>\n",
       "      <td>2196-04-10 15:54:00</td>\n",
       "      <td>1</td>\n",
       "    </tr>\n",
       "    <tr>\n",
       "      <th>1</th>\n",
       "      <td>152223</td>\n",
       "      <td>2153-09-03 07:15:00</td>\n",
       "      <td>2153-09-08 19:10:00</td>\n",
       "      <td>2153-09-03 07:15:00</td>\n",
       "      <td>2153-09-08 19:10:00</td>\n",
       "      <td>5</td>\n",
       "    </tr>\n",
       "    <tr>\n",
       "      <th>2</th>\n",
       "      <td>124321</td>\n",
       "      <td>2157-10-18 19:34:00</td>\n",
       "      <td>2157-10-25 14:00:00</td>\n",
       "      <td>2157-10-18 19:34:00</td>\n",
       "      <td>2157-10-25 14:00:00</td>\n",
       "      <td>6</td>\n",
       "    </tr>\n",
       "    <tr>\n",
       "      <th>3</th>\n",
       "      <td>161859</td>\n",
       "      <td>2139-06-06 16:14:00</td>\n",
       "      <td>2139-06-09 12:48:00</td>\n",
       "      <td>2139-06-06 16:14:00</td>\n",
       "      <td>2139-06-09 12:48:00</td>\n",
       "      <td>2</td>\n",
       "    </tr>\n",
       "    <tr>\n",
       "      <th>4</th>\n",
       "      <td>129635</td>\n",
       "      <td>2160-11-02 02:06:00</td>\n",
       "      <td>2160-11-05 14:55:00</td>\n",
       "      <td>2160-11-02 02:06:00</td>\n",
       "      <td>2160-11-05 14:55:00</td>\n",
       "      <td>3</td>\n",
       "    </tr>\n",
       "  </tbody>\n",
       "</table>\n",
       "</div>"
      ],
      "text/plain": [
       "   HADM_ID            ADMITTIME            DISCHTIME           admittime  \\\n",
       "0   165315  2196-04-09 12:26:00  2196-04-10 15:54:00 2196-04-09 12:26:00   \n",
       "1   152223  2153-09-03 07:15:00  2153-09-08 19:10:00 2153-09-03 07:15:00   \n",
       "2   124321  2157-10-18 19:34:00  2157-10-25 14:00:00 2157-10-18 19:34:00   \n",
       "3   161859  2139-06-06 16:14:00  2139-06-09 12:48:00 2139-06-06 16:14:00   \n",
       "4   129635  2160-11-02 02:06:00  2160-11-05 14:55:00 2160-11-02 02:06:00   \n",
       "\n",
       "            dischtime  los  \n",
       "0 2196-04-10 15:54:00    1  \n",
       "1 2153-09-08 19:10:00    5  \n",
       "2 2157-10-25 14:00:00    6  \n",
       "3 2139-06-09 12:48:00    2  \n",
       "4 2160-11-05 14:55:00    3  "
      ]
     },
     "execution_count": 9,
     "metadata": {},
     "output_type": "execute_result"
    }
   ],
   "source": [
    "a_df = a_orig[['HADM_ID', 'ADMITTIME', 'DISCHTIME']].copy()\n",
    "#pd.to_datetime('2014-04-09T152959.999993-0500', utc=True)\n",
    "# passing format just to make sure conversion doesn't mess something up\n",
    "a_df['admittime'] = pd.to_datetime(a_df.ADMITTIME, format='%Y-%m-%d %H:%M:%S')\n",
    "a_df['dischtime'] = pd.to_datetime(a_df.DISCHTIME, format='%Y-%m-%d %H:%M:%S')\n",
    "a_df['los'] = (a_df['dischtime'] - a_df['admittime']).astype('timedelta64[D]')\n",
    "# can't use a float in neural network\n",
    "a_df['los'] = a_df.los.astype(int)\n",
    "# there are 98 admissions where length of stay is negative. change to 0\n",
    "a_df.loc[a_df.los < 0, 'los'] = 0\n",
    "a_df.head()"
   ]
  },
  {
   "cell_type": "code",
   "execution_count": 10,
   "metadata": {},
   "outputs": [
    {
     "data": {
      "text/plain": [
       "(1851344, 9)"
      ]
     },
     "execution_count": 10,
     "metadata": {},
     "output_type": "execute_result"
    }
   ],
   "source": [
    "# make sure we only keep rows with notes\n",
    "combined_df = pd.merge(a_df, notes_df, on='HADM_ID', how='right')\n",
    "\n",
    "# passing format just to make sure conversion doesn't mess something up\n",
    "combined_df['charttime'] = pd.to_datetime(combined_df.CHARTTIME, format='%Y-%m-%d %H:%M:%S')\n",
    "combined_df['chartdate'] = pd.to_datetime(combined_df.CHARTDATE, format='%Y-%m-%d')\n",
    "combined_df['admitdate'] = combined_df.admittime.dt.date\n",
    "combined_df = combined_df[['HADM_ID', 'ROW_ID', 'admittime', 'admitdate', 'dischtime', 'los', 'chartdate', 'charttime', 'TEXT']]\n",
    "combined_df.rename(columns={'HADM_ID': 'hadm_id', 'ROW_ID': 'row_id', 'TEXT': \"text\"}, inplace=True)\n",
    "combined_df.shape"
   ]
  },
  {
   "cell_type": "code",
   "execution_count": 11,
   "metadata": {},
   "outputs": [
    {
     "name": "stdout",
     "output_type": "stream",
     "text": [
      "(0, 9)\n",
      "(0, 9)\n",
      "(0, 9)\n"
     ]
    }
   ],
   "source": [
    "# these should all be zero\n",
    "print(combined_df[combined_df.los.isnull()].shape)\n",
    "print(combined_df[combined_df.hadm_id.isnull()].shape)\n",
    "print(combined_df[combined_df.text.isnull()].shape)"
   ]
  },
  {
   "cell_type": "code",
   "execution_count": 12,
   "metadata": {},
   "outputs": [
    {
     "data": {
      "text/html": [
       "<div>\n",
       "<style scoped>\n",
       "    .dataframe tbody tr th:only-of-type {\n",
       "        vertical-align: middle;\n",
       "    }\n",
       "\n",
       "    .dataframe tbody tr th {\n",
       "        vertical-align: top;\n",
       "    }\n",
       "\n",
       "    .dataframe thead th {\n",
       "        text-align: right;\n",
       "    }\n",
       "</style>\n",
       "<table border=\"1\" class=\"dataframe\">\n",
       "  <thead>\n",
       "    <tr style=\"text-align: right;\">\n",
       "      <th></th>\n",
       "      <th>hadm_id</th>\n",
       "      <th>row_id</th>\n",
       "      <th>admittime</th>\n",
       "      <th>admitdate</th>\n",
       "      <th>dischtime</th>\n",
       "      <th>los</th>\n",
       "      <th>chartdate</th>\n",
       "      <th>charttime</th>\n",
       "      <th>text</th>\n",
       "    </tr>\n",
       "  </thead>\n",
       "  <tbody>\n",
       "    <tr>\n",
       "      <th>0</th>\n",
       "      <td>165315</td>\n",
       "      <td>12144</td>\n",
       "      <td>2196-04-09 12:26:00</td>\n",
       "      <td>2196-04-09</td>\n",
       "      <td>2196-04-10 15:54:00</td>\n",
       "      <td>1</td>\n",
       "      <td>2196-04-10</td>\n",
       "      <td>NaT</td>\n",
       "      <td>Admission Date:  [**2196-4-9**]       Discharg...</td>\n",
       "    </tr>\n",
       "    <tr>\n",
       "      <th>1</th>\n",
       "      <td>165315</td>\n",
       "      <td>158364</td>\n",
       "      <td>2196-04-09 12:26:00</td>\n",
       "      <td>2196-04-09</td>\n",
       "      <td>2196-04-10 15:54:00</td>\n",
       "      <td>1</td>\n",
       "      <td>2196-04-09</td>\n",
       "      <td>NaT</td>\n",
       "      <td>Normal sinus rhythm. Non-diagnostic repolariza...</td>\n",
       "    </tr>\n",
       "    <tr>\n",
       "      <th>2</th>\n",
       "      <td>165315</td>\n",
       "      <td>158365</td>\n",
       "      <td>2196-04-09 12:26:00</td>\n",
       "      <td>2196-04-09</td>\n",
       "      <td>2196-04-10 15:54:00</td>\n",
       "      <td>1</td>\n",
       "      <td>2196-04-09</td>\n",
       "      <td>NaT</td>\n",
       "      <td>Normal sinus rhythm without diagnostic abnorma...</td>\n",
       "    </tr>\n",
       "    <tr>\n",
       "      <th>3</th>\n",
       "      <td>165315</td>\n",
       "      <td>754366</td>\n",
       "      <td>2196-04-09 12:26:00</td>\n",
       "      <td>2196-04-09</td>\n",
       "      <td>2196-04-10 15:54:00</td>\n",
       "      <td>1</td>\n",
       "      <td>2196-04-10</td>\n",
       "      <td>2196-04-10 23:52:00</td>\n",
       "      <td>[**2196-4-10**] 11:52 PM\\n CHEST (PORTABLE AP)...</td>\n",
       "    </tr>\n",
       "    <tr>\n",
       "      <th>4</th>\n",
       "      <td>165315</td>\n",
       "      <td>754332</td>\n",
       "      <td>2196-04-09 12:26:00</td>\n",
       "      <td>2196-04-09</td>\n",
       "      <td>2196-04-10 15:54:00</td>\n",
       "      <td>1</td>\n",
       "      <td>2196-04-09</td>\n",
       "      <td>2196-04-09 10:19:00</td>\n",
       "      <td>[**2196-4-9**] 10:19 AM\\n CT HEAD W/O CONTRAST...</td>\n",
       "    </tr>\n",
       "  </tbody>\n",
       "</table>\n",
       "</div>"
      ],
      "text/plain": [
       "   hadm_id  row_id           admittime   admitdate           dischtime  los  \\\n",
       "0   165315   12144 2196-04-09 12:26:00  2196-04-09 2196-04-10 15:54:00    1   \n",
       "1   165315  158364 2196-04-09 12:26:00  2196-04-09 2196-04-10 15:54:00    1   \n",
       "2   165315  158365 2196-04-09 12:26:00  2196-04-09 2196-04-10 15:54:00    1   \n",
       "3   165315  754366 2196-04-09 12:26:00  2196-04-09 2196-04-10 15:54:00    1   \n",
       "4   165315  754332 2196-04-09 12:26:00  2196-04-09 2196-04-10 15:54:00    1   \n",
       "\n",
       "   chartdate           charttime  \\\n",
       "0 2196-04-10                 NaT   \n",
       "1 2196-04-09                 NaT   \n",
       "2 2196-04-09                 NaT   \n",
       "3 2196-04-10 2196-04-10 23:52:00   \n",
       "4 2196-04-09 2196-04-09 10:19:00   \n",
       "\n",
       "                                                text  \n",
       "0  Admission Date:  [**2196-4-9**]       Discharg...  \n",
       "1  Normal sinus rhythm. Non-diagnostic repolariza...  \n",
       "2  Normal sinus rhythm without diagnostic abnorma...  \n",
       "3  [**2196-4-10**] 11:52 PM\\n CHEST (PORTABLE AP)...  \n",
       "4  [**2196-4-9**] 10:19 AM\\n CT HEAD W/O CONTRAST...  "
      ]
     },
     "execution_count": 12,
     "metadata": {},
     "output_type": "execute_result"
    }
   ],
   "source": [
    "combined_df.head()"
   ]
  },
  {
   "cell_type": "code",
   "execution_count": 13,
   "metadata": {},
   "outputs": [
    {
     "data": {
      "text/plain": [
       "58361"
      ]
     },
     "execution_count": 13,
     "metadata": {},
     "output_type": "execute_result"
    }
   ],
   "source": [
    "len(combined_df.hadm_id.unique())"
   ]
  },
  {
   "cell_type": "markdown",
   "metadata": {
    "lines_to_next_cell": 0
   },
   "source": [
    "### Use notes from day 1 of stay to predict LOS\n",
    "\n",
    "\n",
    "    For each admission\n",
    "        do they have notes on day 1 of stay\n"
   ]
  },
  {
   "cell_type": "code",
   "execution_count": 14,
   "metadata": {},
   "outputs": [
    {
     "data": {
      "text/plain": [
       "hadm_id               int64\n",
       "row_id                int64\n",
       "admittime    datetime64[ns]\n",
       "admitdate            object\n",
       "dischtime    datetime64[ns]\n",
       "los                   int64\n",
       "chartdate    datetime64[ns]\n",
       "charttime    datetime64[ns]\n",
       "text                 object\n",
       "dtype: object"
      ]
     },
     "execution_count": 14,
     "metadata": {},
     "output_type": "execute_result"
    }
   ],
   "source": [
    "combined_df.dtypes"
   ]
  },
  {
   "cell_type": "markdown",
   "metadata": {},
   "source": [
    "### Build data set for LOS analysis\n",
    "\n",
    "First, find rows of data related to first day of stay\n",
    "\n",
    "Then, combine notes from first day into one text field"
   ]
  },
  {
   "cell_type": "code",
   "execution_count": 15,
   "metadata": {},
   "outputs": [],
   "source": [
    "# this is the slowest cell in pre-processing portion of the notebook \n",
    "fday = combined_df.groupby('hadm_id', as_index=False).apply(lambda g: g[\n",
    "    (g.charttime >= g.admittime) & (g.charttime < (g.admittime + pd.Timedelta(hours=24)))\n",
    "    |\n",
    "    (g.chartdate == g.admitdate)\n",
    "])"
   ]
  },
  {
   "cell_type": "code",
   "execution_count": 16,
   "metadata": {},
   "outputs": [
    {
     "data": {
      "text/html": [
       "<div>\n",
       "<style scoped>\n",
       "    .dataframe tbody tr th:only-of-type {\n",
       "        vertical-align: middle;\n",
       "    }\n",
       "\n",
       "    .dataframe tbody tr th {\n",
       "        vertical-align: top;\n",
       "    }\n",
       "\n",
       "    .dataframe thead th {\n",
       "        text-align: right;\n",
       "    }\n",
       "</style>\n",
       "<table border=\"1\" class=\"dataframe\">\n",
       "  <thead>\n",
       "    <tr style=\"text-align: right;\">\n",
       "      <th></th>\n",
       "      <th></th>\n",
       "      <th>hadm_id</th>\n",
       "      <th>row_id</th>\n",
       "      <th>admittime</th>\n",
       "      <th>admitdate</th>\n",
       "      <th>dischtime</th>\n",
       "      <th>los</th>\n",
       "      <th>chartdate</th>\n",
       "      <th>charttime</th>\n",
       "      <th>text</th>\n",
       "    </tr>\n",
       "  </thead>\n",
       "  <tbody>\n",
       "    <tr>\n",
       "      <th>0</th>\n",
       "      <th>1523431</th>\n",
       "      <td>100001</td>\n",
       "      <td>1206584</td>\n",
       "      <td>2117-09-11 11:46:00</td>\n",
       "      <td>2117-09-11</td>\n",
       "      <td>2117-09-17 16:45:00</td>\n",
       "      <td>6</td>\n",
       "      <td>2117-09-11</td>\n",
       "      <td>2117-09-11 11:12:00</td>\n",
       "      <td>[**2117-9-11**] 11:12 AM\\n CHEST (PA &amp; LAT)   ...</td>\n",
       "    </tr>\n",
       "    <tr>\n",
       "      <th rowspan=\"4\" valign=\"top\">1</th>\n",
       "      <th>1512590</th>\n",
       "      <td>100003</td>\n",
       "      <td>193462</td>\n",
       "      <td>2150-04-17 15:34:00</td>\n",
       "      <td>2150-04-17</td>\n",
       "      <td>2150-04-21 17:30:00</td>\n",
       "      <td>4</td>\n",
       "      <td>2150-04-17</td>\n",
       "      <td>NaT</td>\n",
       "      <td>Sinus rhythm\\nProlonged QT interval is nonspec...</td>\n",
       "    </tr>\n",
       "    <tr>\n",
       "      <th>1512591</th>\n",
       "      <td>100003</td>\n",
       "      <td>567670</td>\n",
       "      <td>2150-04-17 15:34:00</td>\n",
       "      <td>2150-04-17</td>\n",
       "      <td>2150-04-21 17:30:00</td>\n",
       "      <td>4</td>\n",
       "      <td>2150-04-18</td>\n",
       "      <td>2150-04-18 11:53:00</td>\n",
       "      <td>59 year old male with HCV-related cirrhosis, g...</td>\n",
       "    </tr>\n",
       "    <tr>\n",
       "      <th>1512592</th>\n",
       "      <td>100003</td>\n",
       "      <td>567662</td>\n",
       "      <td>2150-04-17 15:34:00</td>\n",
       "      <td>2150-04-17</td>\n",
       "      <td>2150-04-21 17:30:00</td>\n",
       "      <td>4</td>\n",
       "      <td>2150-04-18</td>\n",
       "      <td>2150-04-18 02:47:00</td>\n",
       "      <td>Chief Complaint:  coffee ground emesis, light ...</td>\n",
       "    </tr>\n",
       "    <tr>\n",
       "      <th>1512596</th>\n",
       "      <td>100003</td>\n",
       "      <td>567564</td>\n",
       "      <td>2150-04-17 15:34:00</td>\n",
       "      <td>2150-04-17</td>\n",
       "      <td>2150-04-21 17:30:00</td>\n",
       "      <td>4</td>\n",
       "      <td>2150-04-17</td>\n",
       "      <td>2150-04-17 20:48:00</td>\n",
       "      <td>Chief Complaint:  GIB/HOTN\\n   I saw and exami...</td>\n",
       "    </tr>\n",
       "  </tbody>\n",
       "</table>\n",
       "</div>"
      ],
      "text/plain": [
       "           hadm_id   row_id           admittime   admitdate  \\\n",
       "0 1523431   100001  1206584 2117-09-11 11:46:00  2117-09-11   \n",
       "1 1512590   100003   193462 2150-04-17 15:34:00  2150-04-17   \n",
       "  1512591   100003   567670 2150-04-17 15:34:00  2150-04-17   \n",
       "  1512592   100003   567662 2150-04-17 15:34:00  2150-04-17   \n",
       "  1512596   100003   567564 2150-04-17 15:34:00  2150-04-17   \n",
       "\n",
       "                    dischtime  los  chartdate           charttime  \\\n",
       "0 1523431 2117-09-17 16:45:00    6 2117-09-11 2117-09-11 11:12:00   \n",
       "1 1512590 2150-04-21 17:30:00    4 2150-04-17                 NaT   \n",
       "  1512591 2150-04-21 17:30:00    4 2150-04-18 2150-04-18 11:53:00   \n",
       "  1512592 2150-04-21 17:30:00    4 2150-04-18 2150-04-18 02:47:00   \n",
       "  1512596 2150-04-21 17:30:00    4 2150-04-17 2150-04-17 20:48:00   \n",
       "\n",
       "                                                        text  \n",
       "0 1523431  [**2117-9-11**] 11:12 AM\\n CHEST (PA & LAT)   ...  \n",
       "1 1512590  Sinus rhythm\\nProlonged QT interval is nonspec...  \n",
       "  1512591  59 year old male with HCV-related cirrhosis, g...  \n",
       "  1512592  Chief Complaint:  coffee ground emesis, light ...  \n",
       "  1512596  Chief Complaint:  GIB/HOTN\\n   I saw and exami...  "
      ]
     },
     "execution_count": 16,
     "metadata": {},
     "output_type": "execute_result"
    }
   ],
   "source": [
    "fday.head()"
   ]
  },
  {
   "cell_type": "code",
   "execution_count": 17,
   "metadata": {},
   "outputs": [
    {
     "data": {
      "text/plain": [
       "hadm_id     int64\n",
       "row_id     object\n",
       "dtype: object"
      ]
     },
     "execution_count": 17,
     "metadata": {},
     "output_type": "execute_result"
    }
   ],
   "source": [
    "tmp = fday[['hadm_id', 'row_id']].reset_index(drop=True)\n",
    "tmp['row_id'] = tmp['row_id'].astype(str)\n",
    "tmp.dtypes"
   ]
  },
  {
   "cell_type": "code",
   "execution_count": 18,
   "metadata": {},
   "outputs": [
    {
     "data": {
      "text/html": [
       "<div>\n",
       "<style scoped>\n",
       "    .dataframe tbody tr th:only-of-type {\n",
       "        vertical-align: middle;\n",
       "    }\n",
       "\n",
       "    .dataframe tbody tr th {\n",
       "        vertical-align: top;\n",
       "    }\n",
       "\n",
       "    .dataframe thead th {\n",
       "        text-align: right;\n",
       "    }\n",
       "</style>\n",
       "<table border=\"1\" class=\"dataframe\">\n",
       "  <thead>\n",
       "    <tr style=\"text-align: right;\">\n",
       "      <th></th>\n",
       "      <th>hadm_id</th>\n",
       "      <th>row_id</th>\n",
       "    </tr>\n",
       "  </thead>\n",
       "  <tbody>\n",
       "    <tr>\n",
       "      <th>0</th>\n",
       "      <td>100001</td>\n",
       "      <td>1206584</td>\n",
       "    </tr>\n",
       "    <tr>\n",
       "      <th>1</th>\n",
       "      <td>100003</td>\n",
       "      <td>193462</td>\n",
       "    </tr>\n",
       "    <tr>\n",
       "      <th>2</th>\n",
       "      <td>100003</td>\n",
       "      <td>567670</td>\n",
       "    </tr>\n",
       "    <tr>\n",
       "      <th>3</th>\n",
       "      <td>100003</td>\n",
       "      <td>567662</td>\n",
       "    </tr>\n",
       "    <tr>\n",
       "      <th>4</th>\n",
       "      <td>100003</td>\n",
       "      <td>567564</td>\n",
       "    </tr>\n",
       "  </tbody>\n",
       "</table>\n",
       "</div>"
      ],
      "text/plain": [
       "   hadm_id   row_id\n",
       "0   100001  1206584\n",
       "1   100003   193462\n",
       "2   100003   567670\n",
       "3   100003   567662\n",
       "4   100003   567564"
      ]
     },
     "execution_count": 18,
     "metadata": {},
     "output_type": "execute_result"
    }
   ],
   "source": [
    "tmp.head()"
   ]
  },
  {
   "cell_type": "code",
   "execution_count": 19,
   "metadata": {},
   "outputs": [
    {
     "data": {
      "text/html": [
       "<div>\n",
       "<style scoped>\n",
       "    .dataframe tbody tr th:only-of-type {\n",
       "        vertical-align: middle;\n",
       "    }\n",
       "\n",
       "    .dataframe tbody tr th {\n",
       "        vertical-align: top;\n",
       "    }\n",
       "\n",
       "    .dataframe thead th {\n",
       "        text-align: right;\n",
       "    }\n",
       "</style>\n",
       "<table border=\"1\" class=\"dataframe\">\n",
       "  <thead>\n",
       "    <tr style=\"text-align: right;\">\n",
       "      <th></th>\n",
       "      <th>hadm_id</th>\n",
       "      <th>row_id</th>\n",
       "    </tr>\n",
       "  </thead>\n",
       "  <tbody>\n",
       "    <tr>\n",
       "      <th>0</th>\n",
       "      <td>100001</td>\n",
       "      <td>1206584</td>\n",
       "    </tr>\n",
       "    <tr>\n",
       "      <th>1</th>\n",
       "      <td>100003</td>\n",
       "      <td>193462,567670,567662,567564,567651,567608,5676...</td>\n",
       "    </tr>\n",
       "    <tr>\n",
       "      <th>2</th>\n",
       "      <td>100006</td>\n",
       "      <td>148403,783338,1392730,1392731,1392732</td>\n",
       "    </tr>\n",
       "    <tr>\n",
       "      <th>3</th>\n",
       "      <td>100007</td>\n",
       "      <td>281959,1563229,1563230</td>\n",
       "    </tr>\n",
       "    <tr>\n",
       "      <th>4</th>\n",
       "      <td>100009</td>\n",
       "      <td>185962,1189514,1189544</td>\n",
       "    </tr>\n",
       "  </tbody>\n",
       "</table>\n",
       "</div>"
      ],
      "text/plain": [
       "   hadm_id                                             row_id\n",
       "0   100001                                            1206584\n",
       "1   100003  193462,567670,567662,567564,567651,567608,5676...\n",
       "2   100006              148403,783338,1392730,1392731,1392732\n",
       "3   100007                             281959,1563229,1563230\n",
       "4   100009                             185962,1189514,1189544"
      ]
     },
     "execution_count": 19,
     "metadata": {},
     "output_type": "execute_result"
    }
   ],
   "source": [
    "combined_notes_row_ids = tmp.groupby(['hadm_id'], as_index=False).agg({\n",
    "    'row_id': lambda x: \",\".join(x)\n",
    "})\n",
    "combined_notes_row_ids.head()"
   ]
  },
  {
   "cell_type": "code",
   "execution_count": 20,
   "metadata": {},
   "outputs": [
    {
     "data": {
      "text/html": [
       "<div>\n",
       "<style scoped>\n",
       "    .dataframe tbody tr th:only-of-type {\n",
       "        vertical-align: middle;\n",
       "    }\n",
       "\n",
       "    .dataframe tbody tr th {\n",
       "        vertical-align: top;\n",
       "    }\n",
       "\n",
       "    .dataframe thead th {\n",
       "        text-align: right;\n",
       "    }\n",
       "</style>\n",
       "<table border=\"1\" class=\"dataframe\">\n",
       "  <thead>\n",
       "    <tr style=\"text-align: right;\">\n",
       "      <th></th>\n",
       "      <th></th>\n",
       "      <th>hadm_id</th>\n",
       "      <th>row_id</th>\n",
       "      <th>admittime</th>\n",
       "      <th>admitdate</th>\n",
       "      <th>dischtime</th>\n",
       "      <th>los</th>\n",
       "      <th>chartdate</th>\n",
       "      <th>charttime</th>\n",
       "      <th>text</th>\n",
       "    </tr>\n",
       "  </thead>\n",
       "  <tbody>\n",
       "    <tr>\n",
       "      <th>0</th>\n",
       "      <th>1523431</th>\n",
       "      <td>100001</td>\n",
       "      <td>1206584</td>\n",
       "      <td>2117-09-11 11:46:00</td>\n",
       "      <td>2117-09-11</td>\n",
       "      <td>2117-09-17 16:45:00</td>\n",
       "      <td>6</td>\n",
       "      <td>2117-09-11</td>\n",
       "      <td>2117-09-11 11:12:00</td>\n",
       "      <td>[**2117-9-11**] 11:12 AM\\n CHEST (PA &amp; LAT)   ...</td>\n",
       "    </tr>\n",
       "    <tr>\n",
       "      <th rowspan=\"4\" valign=\"top\">1</th>\n",
       "      <th>1512590</th>\n",
       "      <td>100003</td>\n",
       "      <td>193462</td>\n",
       "      <td>2150-04-17 15:34:00</td>\n",
       "      <td>2150-04-17</td>\n",
       "      <td>2150-04-21 17:30:00</td>\n",
       "      <td>4</td>\n",
       "      <td>2150-04-17</td>\n",
       "      <td>NaT</td>\n",
       "      <td>Sinus rhythm\\nProlonged QT interval is nonspec...</td>\n",
       "    </tr>\n",
       "    <tr>\n",
       "      <th>1512591</th>\n",
       "      <td>100003</td>\n",
       "      <td>567670</td>\n",
       "      <td>2150-04-17 15:34:00</td>\n",
       "      <td>2150-04-17</td>\n",
       "      <td>2150-04-21 17:30:00</td>\n",
       "      <td>4</td>\n",
       "      <td>2150-04-18</td>\n",
       "      <td>2150-04-18 11:53:00</td>\n",
       "      <td>59 year old male with HCV-related cirrhosis, g...</td>\n",
       "    </tr>\n",
       "    <tr>\n",
       "      <th>1512592</th>\n",
       "      <td>100003</td>\n",
       "      <td>567662</td>\n",
       "      <td>2150-04-17 15:34:00</td>\n",
       "      <td>2150-04-17</td>\n",
       "      <td>2150-04-21 17:30:00</td>\n",
       "      <td>4</td>\n",
       "      <td>2150-04-18</td>\n",
       "      <td>2150-04-18 02:47:00</td>\n",
       "      <td>Chief Complaint:  coffee ground emesis, light ...</td>\n",
       "    </tr>\n",
       "    <tr>\n",
       "      <th>1512596</th>\n",
       "      <td>100003</td>\n",
       "      <td>567564</td>\n",
       "      <td>2150-04-17 15:34:00</td>\n",
       "      <td>2150-04-17</td>\n",
       "      <td>2150-04-21 17:30:00</td>\n",
       "      <td>4</td>\n",
       "      <td>2150-04-17</td>\n",
       "      <td>2150-04-17 20:48:00</td>\n",
       "      <td>Chief Complaint:  GIB/HOTN\\n   I saw and exami...</td>\n",
       "    </tr>\n",
       "  </tbody>\n",
       "</table>\n",
       "</div>"
      ],
      "text/plain": [
       "           hadm_id   row_id           admittime   admitdate  \\\n",
       "0 1523431   100001  1206584 2117-09-11 11:46:00  2117-09-11   \n",
       "1 1512590   100003   193462 2150-04-17 15:34:00  2150-04-17   \n",
       "  1512591   100003   567670 2150-04-17 15:34:00  2150-04-17   \n",
       "  1512592   100003   567662 2150-04-17 15:34:00  2150-04-17   \n",
       "  1512596   100003   567564 2150-04-17 15:34:00  2150-04-17   \n",
       "\n",
       "                    dischtime  los  chartdate           charttime  \\\n",
       "0 1523431 2117-09-17 16:45:00    6 2117-09-11 2117-09-11 11:12:00   \n",
       "1 1512590 2150-04-21 17:30:00    4 2150-04-17                 NaT   \n",
       "  1512591 2150-04-21 17:30:00    4 2150-04-18 2150-04-18 11:53:00   \n",
       "  1512592 2150-04-21 17:30:00    4 2150-04-18 2150-04-18 02:47:00   \n",
       "  1512596 2150-04-21 17:30:00    4 2150-04-17 2150-04-17 20:48:00   \n",
       "\n",
       "                                                        text  \n",
       "0 1523431  [**2117-9-11**] 11:12 AM\\n CHEST (PA & LAT)   ...  \n",
       "1 1512590  Sinus rhythm\\nProlonged QT interval is nonspec...  \n",
       "  1512591  59 year old male with HCV-related cirrhosis, g...  \n",
       "  1512592  Chief Complaint:  coffee ground emesis, light ...  \n",
       "  1512596  Chief Complaint:  GIB/HOTN\\n   I saw and exami...  "
      ]
     },
     "execution_count": 20,
     "metadata": {},
     "output_type": "execute_result"
    }
   ],
   "source": [
    "fday.head()"
   ]
  },
  {
   "cell_type": "code",
   "execution_count": 21,
   "metadata": {},
   "outputs": [],
   "source": [
    "combined_fday = fday.groupby(['hadm_id', 'los'], as_index=False).agg({\n",
    "    'text': lambda x: \"\\n\\n\\n\\n\".join(x)\n",
    "})"
   ]
  },
  {
   "cell_type": "code",
   "execution_count": 22,
   "metadata": {},
   "outputs": [
    {
     "data": {
      "text/html": [
       "<div>\n",
       "<style scoped>\n",
       "    .dataframe tbody tr th:only-of-type {\n",
       "        vertical-align: middle;\n",
       "    }\n",
       "\n",
       "    .dataframe tbody tr th {\n",
       "        vertical-align: top;\n",
       "    }\n",
       "\n",
       "    .dataframe thead th {\n",
       "        text-align: right;\n",
       "    }\n",
       "</style>\n",
       "<table border=\"1\" class=\"dataframe\">\n",
       "  <thead>\n",
       "    <tr style=\"text-align: right;\">\n",
       "      <th></th>\n",
       "      <th>hadm_id</th>\n",
       "      <th>los</th>\n",
       "      <th>text</th>\n",
       "    </tr>\n",
       "  </thead>\n",
       "  <tbody>\n",
       "    <tr>\n",
       "      <th>0</th>\n",
       "      <td>100001</td>\n",
       "      <td>6</td>\n",
       "      <td>[**2117-9-11**] 11:12 AM\\n CHEST (PA &amp; LAT)   ...</td>\n",
       "    </tr>\n",
       "    <tr>\n",
       "      <th>1</th>\n",
       "      <td>100003</td>\n",
       "      <td>4</td>\n",
       "      <td>Sinus rhythm\\nProlonged QT interval is nonspec...</td>\n",
       "    </tr>\n",
       "    <tr>\n",
       "      <th>2</th>\n",
       "      <td>100006</td>\n",
       "      <td>12</td>\n",
       "      <td>Sinus tachycardia\\nLeft axis deviation - anter...</td>\n",
       "    </tr>\n",
       "    <tr>\n",
       "      <th>3</th>\n",
       "      <td>100007</td>\n",
       "      <td>7</td>\n",
       "      <td>Sinus rhythm\\nAtrial premature complex\\nConsid...</td>\n",
       "    </tr>\n",
       "    <tr>\n",
       "      <th>4</th>\n",
       "      <td>100009</td>\n",
       "      <td>4</td>\n",
       "      <td>Sinus bradycardia.  Left atrial abnormality.  ...</td>\n",
       "    </tr>\n",
       "  </tbody>\n",
       "</table>\n",
       "</div>"
      ],
      "text/plain": [
       "   hadm_id  los                                               text\n",
       "0   100001    6  [**2117-9-11**] 11:12 AM\\n CHEST (PA & LAT)   ...\n",
       "1   100003    4  Sinus rhythm\\nProlonged QT interval is nonspec...\n",
       "2   100006   12  Sinus tachycardia\\nLeft axis deviation - anter...\n",
       "3   100007    7  Sinus rhythm\\nAtrial premature complex\\nConsid...\n",
       "4   100009    4  Sinus bradycardia.  Left atrial abnormality.  ..."
      ]
     },
     "execution_count": 22,
     "metadata": {},
     "output_type": "execute_result"
    }
   ],
   "source": [
    "combined_fday.head()"
   ]
  },
  {
   "cell_type": "code",
   "execution_count": 23,
   "metadata": {},
   "outputs": [
    {
     "data": {
      "text/plain": [
       "(55353, 3)"
      ]
     },
     "execution_count": 23,
     "metadata": {},
     "output_type": "execute_result"
    }
   ],
   "source": [
    "combined_fday.shape"
   ]
  },
  {
   "cell_type": "code",
   "execution_count": 24,
   "metadata": {},
   "outputs": [
    {
     "data": {
      "text/plain": [
       "159"
      ]
     },
     "execution_count": 24,
     "metadata": {},
     "output_type": "execute_result"
    }
   ],
   "source": [
    "len(combined_fday.los.unique())"
   ]
  },
  {
   "cell_type": "code",
   "execution_count": 25,
   "metadata": {},
   "outputs": [
    {
     "name": "stdout",
     "output_type": "stream",
     "text": [
      "4    5686\n",
      "2    5389\n",
      "3    4863\n",
      "5    4554\n",
      "6    4001\n",
      "7    3503\n",
      "1    3257\n",
      "8    2825\n",
      "9    2392\n",
      "0    2062\n",
      "Name: los, dtype: int64\n",
      "150    1\n",
      "181    1\n",
      "140    1\n",
      "109    1\n",
      "163    1\n",
      "141    1\n",
      "136    1\n",
      "173    1\n",
      "206    1\n",
      "191    1\n",
      "Name: los, dtype: int64\n"
     ]
    }
   ],
   "source": [
    "print(combined_fday.los.value_counts().head(10))\n",
    "print(combined_fday.los.value_counts().tail(10))"
   ]
  },
  {
   "cell_type": "code",
   "execution_count": 26,
   "metadata": {},
   "outputs": [
    {
     "name": "stdout",
     "output_type": "stream",
     "text": [
      "Number of records where length of stay is unique to that person: 23\n"
     ]
    }
   ],
   "source": [
    "s = combined_fday.los.value_counts()\n",
    "print('Number of records where length of stay is unique to that person:', len(s[s == 1]))"
   ]
  },
  {
   "cell_type": "code",
   "execution_count": 27,
   "metadata": {},
   "outputs": [
    {
     "name": "stdout",
     "output_type": "stream",
     "text": [
      "Min LOS: 0\n",
      "Max LOS: 206\n",
      "Median LOS: 6.0\n",
      "Mean LOS: 9.581088649215038\n",
      "Mode LOS: 4\n"
     ]
    }
   ],
   "source": [
    "# min\n",
    "print('Min LOS:', combined_fday.los.min())\n",
    "# max\n",
    "print('Max LOS:', combined_fday.los.max())\n",
    "# median\n",
    "print('Median LOS:', combined_fday.los.median())\n",
    "# mean\n",
    "print('Mean LOS:', combined_fday.los.mean())\n",
    "print('Mode LOS:', combined_fday.los.mode()[0]) # returns a series, just want the value"
   ]
  },
  {
   "cell_type": "markdown",
   "metadata": {},
   "source": [
    "### Truncate LOS to max of 10"
   ]
  },
  {
   "cell_type": "code",
   "execution_count": 28,
   "metadata": {},
   "outputs": [
    {
     "data": {
      "text/html": [
       "<div>\n",
       "<style scoped>\n",
       "    .dataframe tbody tr th:only-of-type {\n",
       "        vertical-align: middle;\n",
       "    }\n",
       "\n",
       "    .dataframe tbody tr th {\n",
       "        vertical-align: top;\n",
       "    }\n",
       "\n",
       "    .dataframe thead th {\n",
       "        text-align: right;\n",
       "    }\n",
       "</style>\n",
       "<table border=\"1\" class=\"dataframe\">\n",
       "  <thead>\n",
       "    <tr style=\"text-align: right;\">\n",
       "      <th></th>\n",
       "      <th>hadm_id</th>\n",
       "      <th>los</th>\n",
       "      <th>text</th>\n",
       "    </tr>\n",
       "  </thead>\n",
       "  <tbody>\n",
       "    <tr>\n",
       "      <th>0</th>\n",
       "      <td>100001</td>\n",
       "      <td>6</td>\n",
       "      <td>[**2117-9-11**] 11:12 AM\\n CHEST (PA &amp; LAT)   ...</td>\n",
       "    </tr>\n",
       "    <tr>\n",
       "      <th>1</th>\n",
       "      <td>100003</td>\n",
       "      <td>4</td>\n",
       "      <td>Sinus rhythm\\nProlonged QT interval is nonspec...</td>\n",
       "    </tr>\n",
       "    <tr>\n",
       "      <th>2</th>\n",
       "      <td>100006</td>\n",
       "      <td>10</td>\n",
       "      <td>Sinus tachycardia\\nLeft axis deviation - anter...</td>\n",
       "    </tr>\n",
       "    <tr>\n",
       "      <th>3</th>\n",
       "      <td>100007</td>\n",
       "      <td>7</td>\n",
       "      <td>Sinus rhythm\\nAtrial premature complex\\nConsid...</td>\n",
       "    </tr>\n",
       "    <tr>\n",
       "      <th>4</th>\n",
       "      <td>100009</td>\n",
       "      <td>4</td>\n",
       "      <td>Sinus bradycardia.  Left atrial abnormality.  ...</td>\n",
       "    </tr>\n",
       "  </tbody>\n",
       "</table>\n",
       "</div>"
      ],
      "text/plain": [
       "   hadm_id  los                                               text\n",
       "0   100001    6  [**2117-9-11**] 11:12 AM\\n CHEST (PA & LAT)   ...\n",
       "1   100003    4  Sinus rhythm\\nProlonged QT interval is nonspec...\n",
       "2   100006   10  Sinus tachycardia\\nLeft axis deviation - anter...\n",
       "3   100007    7  Sinus rhythm\\nAtrial premature complex\\nConsid...\n",
       "4   100009    4  Sinus bradycardia.  Left atrial abnormality.  ..."
      ]
     },
     "execution_count": 28,
     "metadata": {},
     "output_type": "execute_result"
    }
   ],
   "source": [
    "trunc_fday = combined_fday.copy()\n",
    "trunc_fday.loc[trunc_fday.los > 9, 'los'] = 10\n",
    "trunc_fday.head()"
   ]
  },
  {
   "cell_type": "code",
   "execution_count": 29,
   "metadata": {},
   "outputs": [
    {
     "data": {
      "text/plain": [
       "0"
      ]
     },
     "execution_count": 29,
     "metadata": {},
     "output_type": "execute_result"
    }
   ],
   "source": [
    "s = trunc_fday.los.value_counts()\n",
    "len(s[s == 1])"
   ]
  },
  {
   "cell_type": "code",
   "execution_count": 30,
   "metadata": {},
   "outputs": [
    {
     "name": "stdout",
     "output_type": "stream",
     "text": [
      "10    16821\n",
      "4      5686\n",
      "2      5389\n",
      "3      4863\n",
      "5      4554\n",
      "6      4001\n",
      "7      3503\n",
      "1      3257\n",
      "8      2825\n",
      "9      2392\n",
      "0      2062\n",
      "Name: los, dtype: int64\n"
     ]
    }
   ],
   "source": [
    "print(trunc_fday.los.value_counts().head(15))"
   ]
  },
  {
   "cell_type": "code",
   "execution_count": 31,
   "metadata": {},
   "outputs": [],
   "source": [
    "rowid_sample = combined_notes_row_ids.sample(frac=pct_data_sample, random_state=seed)"
   ]
  },
  {
   "cell_type": "code",
   "execution_count": 32,
   "metadata": {},
   "outputs": [
    {
     "data": {
      "text/plain": [
       "(11071, 3)"
      ]
     },
     "execution_count": 32,
     "metadata": {},
     "output_type": "execute_result"
    }
   ],
   "source": [
    "df = trunc_fday.sample(frac=pct_data_sample, random_state=seed)\n",
    "df.shape"
   ]
  },
  {
   "cell_type": "code",
   "execution_count": 33,
   "metadata": {},
   "outputs": [
    {
     "data": {
      "text/plain": [
       "11071"
      ]
     },
     "execution_count": 33,
     "metadata": {},
     "output_type": "execute_result"
    }
   ],
   "source": [
    "# should be 5535 - 100% overlap\n",
    "len(set(rowid_sample.hadm_id.unique()) & set(df.hadm_id.unique()))"
   ]
  },
  {
   "cell_type": "code",
   "execution_count": 34,
   "metadata": {},
   "outputs": [
    {
     "data": {
      "text/plain": [
       "11071"
      ]
     },
     "execution_count": 34,
     "metadata": {},
     "output_type": "execute_result"
    }
   ],
   "source": [
    "len(df.hadm_id.unique())"
   ]
  },
  {
   "cell_type": "code",
   "execution_count": 35,
   "metadata": {},
   "outputs": [
    {
     "name": "stdout",
     "output_type": "stream",
     "text": [
      "--------- stats on 10% random sample ---------\n",
      "Min LOS: 0\n",
      "Max LOS: 10\n",
      "Median LOS: 6.0\n",
      "Mean LOS: 6.053382711588836\n",
      "Mode LOS: 10\n"
     ]
    }
   ],
   "source": [
    "print('--------- stats on 10% random sample ---------')\n",
    "print('Min LOS:', df.los.min())\n",
    "print('Max LOS:', df.los.max())\n",
    "print('Median LOS:', df.los.median())\n",
    "print('Mean LOS:', df.los.mean())\n",
    "print('Mode LOS:', df.los.mode()[0]) # returns a series, just want the value"
   ]
  },
  {
   "cell_type": "code",
   "execution_count": 36,
   "metadata": {},
   "outputs": [],
   "source": [
    "#s.apply(pd.Series).stack().reset_index(drop=True)\n",
    "\n",
    "# some patients only have 1 note\n",
    "\n",
    "r = pd.concat([\n",
    "    rowid_sample[rowid_sample['row_id'].str.contains(',')].groupby(['hadm_id'], as_index=False).agg({\n",
    "        'row_id': lambda x: x.str.split(',')\n",
    "    }),\n",
    "    rowid_sample[~rowid_sample['row_id'].str.contains(',')]\n",
    "])\n",
    "row_ids = r.row_id.apply(pd.Series).stack().reset_index(drop=True)\n",
    "row_ids = row_ids.astype(int)"
   ]
  },
  {
   "cell_type": "code",
   "execution_count": 37,
   "metadata": {},
   "outputs": [
    {
     "name": "stdout",
     "output_type": "stream",
     "text": [
      "(67416,)\n",
      "67416\n"
     ]
    }
   ],
   "source": [
    "print(row_ids.shape)         # 33,914\n",
    "print(len(row_ids.unique())) # 33,914"
   ]
  },
  {
   "cell_type": "code",
   "execution_count": 38,
   "metadata": {},
   "outputs": [
    {
     "name": "stdout",
     "output_type": "stream",
     "text": [
      "rows in dataframe for NN: 67416\n",
      "rows in language model: 208318\n",
      "row_ids in both: 6874\n"
     ]
    }
   ],
   "source": [
    "# compare overlap between these notes and language model notes set\n",
    "lm_df = orig_df.sample(frac=lm_pct_data_sample, random_state=42)\n",
    "print('rows in dataframe for NN:', len(row_ids.unique()))\n",
    "print('rows in language model:', len(lm_df.ROW_ID.unique()))\n",
    "print('row_ids in both:', len(set(row_ids.unique()) & set(lm_df.ROW_ID.unique())))"
   ]
  },
  {
   "cell_type": "markdown",
   "metadata": {},
   "source": [
    "## Now for some Deep Learning"
   ]
  },
  {
   "cell_type": "code",
   "execution_count": 39,
   "metadata": {},
   "outputs": [],
   "source": [
    "# What if LOS was a string? Would accuracy, memory, or training time change?\n",
    "#df.los = df.los.astype(int)\n",
    "#df.dtypes"
   ]
  },
  {
   "cell_type": "markdown",
   "metadata": {},
   "source": [
    "### Create language model without fine-tuning to MIMIC notes"
   ]
  },
  {
   "cell_type": "code",
   "execution_count": 40,
   "metadata": {},
   "outputs": [
    {
     "name": "stdout",
     "output_type": "stream",
     "text": [
      "loading existing language model\n"
     ]
    }
   ],
   "source": [
    "tmpfile = base_path/lm_file\n",
    "\n",
    "if os.path.isfile(tmpfile):\n",
    "    print('loading existing language model')\n",
    "    lm = load_data(base_path, lm_file, bs=bs)\n",
    "else:\n",
    "    print('creating new language model')\n",
    "    lm_df = orig_df.sample(frac=pct_data_sample, random_state=lm_seed)\n",
    "    lm = (TextList.from_df(lm_df, base_path, cols='TEXT')\n",
    "               #df has several columns; actual text is in column TEXT\n",
    "               .split_by_rand_pct(valid_pct=valid_pct, seed=lm_seed)\n",
    "               #We randomly split and keep 10% for validation\n",
    "               .label_for_lm()\n",
    "               #We want to do a language model so we label accordingly\n",
    "               .databunch(bs=bs))\n",
    "    lm.save(tmpfile)\n",
    "    print('completed creating new language model')"
   ]
  },
  {
   "cell_type": "code",
   "execution_count": 41,
   "metadata": {},
   "outputs": [],
   "source": [
    "learn = language_model_learner(lm, AWD_LSTM, drop_mult=0.3)\n",
    "learn.save_encoder(enc_file)"
   ]
  },
  {
   "cell_type": "markdown",
   "metadata": {},
   "source": [
    "#### This is a very CPU and RAM intensive process - no GPU involved"
   ]
  },
  {
   "cell_type": "code",
   "execution_count": 42,
   "metadata": {},
   "outputs": [
    {
     "name": "stdout",
     "output_type": "stream",
     "text": [
      "created new data bunch\n"
     ]
    }
   ],
   "source": [
    "filename = base_path/class_file\n",
    "if os.path.isfile(filename):\n",
    "    data_cl = load_data(base_path, class_file, bs=bs)\n",
    "    print('loaded existing data bunch')\n",
    "else:\n",
    "    print('creating new data bunch')\n",
    "    data_cl = (TextList.from_df(df, base_path, cols='text', vocab=lm.vocab)\n",
    "               #df has several columns; actual text is in column TEXT\n",
    "               .split_by_rand_pct(valid_pct=valid_pct, seed=seed)\n",
    "               #We randomly split and keep 20% for validation, set seed for repeatability\n",
    "               .label_from_df(cols='los')\n",
    "               .databunch(bs=bs))\n",
    "    data_cl.save(filename)\n",
    "    print('created new data bunch')"
   ]
  },
  {
   "cell_type": "markdown",
   "metadata": {},
   "source": [
    "### Account for class imbalance\n",
    "\n",
    "Using weighted F1 as metric\n",
    "\n",
    "See https://scikit-learn.org/stable/modules/generated/sklearn.metrics.f1_score.html\n",
    "\n",
    "Also adjust weights of network output to reduce likelihood of los > 9"
   ]
  },
  {
   "cell_type": "code",
   "execution_count": 46,
   "metadata": {},
   "outputs": [
    {
     "name": "stdout",
     "output_type": "stream",
     "text": [
      "loaded encoder\n"
     ]
    }
   ],
   "source": [
    "learn = text_classifier_learner(data_cl, AWD_LSTM, drop_mult=0.5, metrics=[accuracy, FBeta(average='weighted', beta=1)])\n",
    "learn.load_encoder(enc_file)\n",
    "print('loaded encoder')"
   ]
  },
  {
   "cell_type": "code",
   "execution_count": 44,
   "metadata": {},
   "outputs": [],
   "source": [
    "label_counts = df.groupby('los').size()\n",
    "orig_count = label_counts.iloc[-1]\n",
    "label_counts.iloc[-1] = orig_count * 50\n",
    "label_sum = len(df.los) + (label_counts.iloc[-1] - orig_count)\n",
    "weights = [1 - count/label_sum for count in label_counts]"
   ]
  },
  {
   "cell_type": "code",
   "execution_count": 45,
   "metadata": {},
   "outputs": [
    {
     "data": {
      "text/plain": [
       "functools.partial(<function cross_entropy at 0x7fb1c3b44488>, weight=tensor([0.9977, 0.9964, 0.9937, 0.9945, 0.9937, 0.9947, 0.9956, 0.9959, 0.9968,\n",
       "        0.9975, 0.0435], device='cuda:0'))"
      ]
     },
     "execution_count": 45,
     "metadata": {},
     "output_type": "execute_result"
    }
   ],
   "source": [
    "loss_weights = torch.FloatTensor(weights).cuda()\n",
    "learn.crit = partial(F.cross_entropy, weight=loss_weights)\n",
    "learn.crit"
   ]
  },
  {
   "cell_type": "code",
   "execution_count": null,
   "metadata": {},
   "outputs": [],
   "source": [
    "# with P100/P40 this takes maybe 5 minutes\n",
    "# with 2017 macbook pro, intel core i7 3.1Ghz, this takes about 160 minutes\n",
    "learn.lr_find()"
   ]
  },
  {
   "cell_type": "code",
   "execution_count": null,
   "metadata": {},
   "outputs": [],
   "source": [
    "learn.recorder.plot()"
   ]
  },
  {
   "cell_type": "markdown",
   "metadata": {},
   "source": [
    "Change learning rate based on results from the above plot.\n",
    "\n",
    "Next several cells test various learning rates to find ideal learning rate"
   ]
  },
  {
   "cell_type": "markdown",
   "metadata": {
    "lines_to_next_cell": 0
   },
   "source": [
    "### Train with selected learning rate\n",
    "\n",
    "Results from `learn.fit_one_cycle()`\n",
    "\n",
    "    Training new initial learner\n",
    "\n",
    "    epoch \ttrain_loss \tvalid_loss \taccuracy \tf_beta \ttime\n"
   ]
  },
  {
   "cell_type": "code",
   "execution_count": 47,
   "metadata": {},
   "outputs": [
    {
     "name": "stdout",
     "output_type": "stream",
     "text": [
      "Training new initial learner\n"
     ]
    },
    {
     "data": {
      "text/html": [
       "<table border=\"1\" class=\"dataframe\">\n",
       "  <thead>\n",
       "    <tr style=\"text-align: left;\">\n",
       "      <th>epoch</th>\n",
       "      <th>train_loss</th>\n",
       "      <th>valid_loss</th>\n",
       "      <th>accuracy</th>\n",
       "      <th>f_beta</th>\n",
       "      <th>time</th>\n",
       "    </tr>\n",
       "  </thead>\n",
       "  <tbody>\n",
       "    <tr>\n",
       "      <td>0</td>\n",
       "      <td>2.163698</td>\n",
       "      <td>2.112931</td>\n",
       "      <td>0.330172</td>\n",
       "      <td>0.185630</td>\n",
       "      <td>07:02</td>\n",
       "    </tr>\n",
       "  </tbody>\n",
       "</table>"
      ],
      "text/plain": [
       "<IPython.core.display.HTML object>"
      ]
     },
     "metadata": {},
     "output_type": "display_data"
    },
    {
     "name": "stdout",
     "output_type": "stream",
     "text": [
      "Saving new learner\n",
      "Finished generating new learner\n"
     ]
    }
   ],
   "source": [
    "if os.path.isfile(str(init_model_file) + '.pth'):\n",
    "    learn.load(init_model_file)\n",
    "    learn.load_encoder(enc_file)\n",
    "    print('loaded initial learner')\n",
    "else:\n",
    "    print('Training new initial learner')\n",
    "    learn.fit_one_cycle(1, 5e-2, moms=(0.8,0.7),\n",
    "                       callbacks=[\n",
    "                           callbacks.CSVLogger(learn, filename=training_history_file, append=True)\n",
    "                       ])\n",
    "    print('Saving new learner')\n",
    "    learn.save(init_model_file)\n",
    "    print('Finished generating new learner')"
   ]
  },
  {
   "cell_type": "markdown",
   "metadata": {
    "lines_to_next_cell": 0
   },
   "source": [
    "### Results from the freeze_two learner\n",
    "\n",
    "With `learn.fit_one_cycle()`\n",
    "\n",
    "    epoch \ttrain_loss \tvalid_loss \taccuracy \tf_beta \ttime"
   ]
  },
  {
   "cell_type": "code",
   "execution_count": 48,
   "metadata": {},
   "outputs": [
    {
     "name": "stdout",
     "output_type": "stream",
     "text": [
      "Training new freeze_two learner\n"
     ]
    },
    {
     "data": {
      "text/html": [
       "<table border=\"1\" class=\"dataframe\">\n",
       "  <thead>\n",
       "    <tr style=\"text-align: left;\">\n",
       "      <th>epoch</th>\n",
       "      <th>train_loss</th>\n",
       "      <th>valid_loss</th>\n",
       "      <th>accuracy</th>\n",
       "      <th>f_beta</th>\n",
       "      <th>time</th>\n",
       "    </tr>\n",
       "  </thead>\n",
       "  <tbody>\n",
       "    <tr>\n",
       "      <td>0</td>\n",
       "      <td>2.142020</td>\n",
       "      <td>2.107906</td>\n",
       "      <td>0.321138</td>\n",
       "      <td>0.173859</td>\n",
       "      <td>06:30</td>\n",
       "    </tr>\n",
       "  </tbody>\n",
       "</table>"
      ],
      "text/plain": [
       "<IPython.core.display.HTML object>"
      ]
     },
     "metadata": {},
     "output_type": "display_data"
    },
    {
     "name": "stdout",
     "output_type": "stream",
     "text": [
      "Saving new freeze_two learner\n",
      "Finished generating new freeze_two learner\n"
     ]
    }
   ],
   "source": [
    "if os.path.isfile(str(freeze_two) + '.pth'):\n",
    "    learn.load(freeze_two)\n",
    "    print('loaded freeze_two learner')\n",
    "else:\n",
    "    print('Training new freeze_two learner')\n",
    "    learn.freeze_to(-2)\n",
    "    learn.fit_one_cycle(1, slice(5e-2/(2.6**4),5e-2), moms=(0.8,0.7),\n",
    "                       callbacks=[\n",
    "                           callbacks.CSVLogger(learn, filename=training_history_file, append=True)\n",
    "                       ])\n",
    "    print('Saving new freeze_two learner')\n",
    "    learn.save(freeze_two)\n",
    "    print('Finished generating new freeze_two learner')"
   ]
  },
  {
   "cell_type": "code",
   "execution_count": 49,
   "metadata": {},
   "outputs": [
    {
     "name": "stdout",
     "output_type": "stream",
     "text": [
      "Training new freeze_three learner\n"
     ]
    },
    {
     "data": {
      "text/html": [
       "<table border=\"1\" class=\"dataframe\">\n",
       "  <thead>\n",
       "    <tr style=\"text-align: left;\">\n",
       "      <th>epoch</th>\n",
       "      <th>train_loss</th>\n",
       "      <th>valid_loss</th>\n",
       "      <th>accuracy</th>\n",
       "      <th>f_beta</th>\n",
       "      <th>time</th>\n",
       "    </tr>\n",
       "  </thead>\n",
       "  <tbody>\n",
       "    <tr>\n",
       "      <td>0</td>\n",
       "      <td>2.061233</td>\n",
       "      <td>2.079508</td>\n",
       "      <td>0.336043</td>\n",
       "      <td>0.194460</td>\n",
       "      <td>07:45</td>\n",
       "    </tr>\n",
       "  </tbody>\n",
       "</table>"
      ],
      "text/plain": [
       "<IPython.core.display.HTML object>"
      ]
     },
     "metadata": {},
     "output_type": "display_data"
    },
    {
     "name": "stdout",
     "output_type": "stream",
     "text": [
      "Saving new freeze_three learner\n",
      "Finished generating new freeze_three learner\n"
     ]
    }
   ],
   "source": [
    "if os.path.isfile(str(freeze_three) + '.pth'):\n",
    "    learn.load(freeze_three)\n",
    "    print('loaded freeze_three learner')\n",
    "else:\n",
    "    print('Training new freeze_three learner')\n",
    "    learn.freeze_to(-3)\n",
    "    learn.fit_one_cycle(1, slice(1e-3/(2.6**4),1e-3), moms=(0.8,0.7),\n",
    "                       callbacks=[\n",
    "                           callbacks.CSVLogger(learn, filename=training_history_file, append=True)\n",
    "                       ])\n",
    "    print('Saving new freeze_three learner')\n",
    "    learn.save(freeze_three)\n",
    "    print('Finished generating new freeze_three learner')"
   ]
  },
  {
   "cell_type": "code",
   "execution_count": 50,
   "metadata": {},
   "outputs": [],
   "source": [
    "learn.unfreeze()"
   ]
  },
  {
   "cell_type": "code",
   "execution_count": 51,
   "metadata": {},
   "outputs": [],
   "source": [
    "release_mem()"
   ]
  },
  {
   "cell_type": "code",
   "execution_count": 52,
   "metadata": {},
   "outputs": [
    {
     "name": "stdout",
     "output_type": "stream",
     "text": [
      "This model NOT been trained yet\n"
     ]
    }
   ],
   "source": [
    "if os.path.isfile(cycles_file):\n",
    "    with open(cycles_file, 'rb') as f:\n",
    "        prev_cycles = pickle.load(f)\n",
    "    print('This model has been trained for', prev_cycles, 'epochs already')  \n",
    "else:\n",
    "    prev_cycles = 0\n",
    "    print('This model NOT been trained yet') "
   ]
  },
  {
   "cell_type": "code",
   "execution_count": 53,
   "metadata": {},
   "outputs": [
    {
     "data": {
      "text/html": [
       "<table border=\"1\" class=\"dataframe\">\n",
       "  <thead>\n",
       "    <tr style=\"text-align: left;\">\n",
       "      <th>epoch</th>\n",
       "      <th>train_loss</th>\n",
       "      <th>valid_loss</th>\n",
       "      <th>accuracy</th>\n",
       "      <th>f_beta</th>\n",
       "      <th>time</th>\n",
       "    </tr>\n",
       "  </thead>\n",
       "  <tbody>\n",
       "    <tr>\n",
       "      <td>0</td>\n",
       "      <td>2.064606</td>\n",
       "      <td>2.077568</td>\n",
       "      <td>0.336495</td>\n",
       "      <td>0.195115</td>\n",
       "      <td>10:05</td>\n",
       "    </tr>\n",
       "    <tr>\n",
       "      <td>1</td>\n",
       "      <td>2.075289</td>\n",
       "      <td>2.078200</td>\n",
       "      <td>0.335140</td>\n",
       "      <td>0.193545</td>\n",
       "      <td>09:45</td>\n",
       "    </tr>\n",
       "    <tr>\n",
       "      <td>2</td>\n",
       "      <td>2.072451</td>\n",
       "      <td>2.075520</td>\n",
       "      <td>0.336947</td>\n",
       "      <td>0.196305</td>\n",
       "      <td>07:56</td>\n",
       "    </tr>\n",
       "  </tbody>\n",
       "</table>"
      ],
      "text/plain": [
       "<IPython.core.display.HTML object>"
      ]
     },
     "metadata": {},
     "output_type": "display_data"
    }
   ],
   "source": [
    "num_cycles = 3\n",
    "\n",
    "file = ft_file + str(prev_cycles)\n",
    "learner_file = base_path/file\n",
    "callback_save_file = str(learner_file) + '_auto'\n",
    "\n",
    "learn.fit_one_cycle(num_cycles, slice(1e-4/(2.6**4),1e-4), moms=(0.8,0.7),\n",
    "                    callbacks=[\n",
    "                        callbacks.SaveModelCallback(learn, every='epoch', monitor='accuracy', name=callback_save_file),\n",
    "                        # CSVLogger only logs when num_cycles are complete\n",
    "                        callbacks.CSVLogger(learn, filename=training_history_file, append=True)\n",
    "                    ])\n",
    "file = ft_file + str(prev_cycles + num_cycles)\n",
    "learner_file = base_path/file\n",
    "learn.save(learner_file)\n",
    "\n",
    "with open(cycles_file, 'wb') as f:\n",
    "    pickle.dump(num_cycles + prev_cycles, f)\n",
    "release_mem()"
   ]
  },
  {
   "cell_type": "code",
   "execution_count": 54,
   "metadata": {},
   "outputs": [
    {
     "name": "stdout",
     "output_type": "stream",
     "text": [
      "This model has been trained for 3 epochs already\n"
     ]
    }
   ],
   "source": [
    "if os.path.isfile(cycles_file):\n",
    "    with open(cycles_file, 'rb') as f:\n",
    "        prev_cycles = pickle.load(f)\n",
    "    print('This model has been trained for', prev_cycles, 'epochs already')  \n",
    "else:\n",
    "    prev_cycles = 0\n",
    "    print('This model NOT been trained yet') "
   ]
  },
  {
   "cell_type": "code",
   "execution_count": 55,
   "metadata": {},
   "outputs": [
    {
     "data": {
      "text/html": [
       "<table border=\"1\" class=\"dataframe\">\n",
       "  <thead>\n",
       "    <tr style=\"text-align: left;\">\n",
       "      <th>epoch</th>\n",
       "      <th>train_loss</th>\n",
       "      <th>valid_loss</th>\n",
       "      <th>accuracy</th>\n",
       "      <th>f_beta</th>\n",
       "      <th>time</th>\n",
       "    </tr>\n",
       "  </thead>\n",
       "  <tbody>\n",
       "    <tr>\n",
       "      <td>0</td>\n",
       "      <td>2.090517</td>\n",
       "      <td>2.140639</td>\n",
       "      <td>0.325655</td>\n",
       "      <td>0.201201</td>\n",
       "      <td>08:26</td>\n",
       "    </tr>\n",
       "    <tr>\n",
       "      <td>1</td>\n",
       "      <td>2.061894</td>\n",
       "      <td>2.072498</td>\n",
       "      <td>0.343270</td>\n",
       "      <td>0.209459</td>\n",
       "      <td>07:43</td>\n",
       "    </tr>\n",
       "    <tr>\n",
       "      <td>2</td>\n",
       "      <td>2.016730</td>\n",
       "      <td>2.022638</td>\n",
       "      <td>0.348238</td>\n",
       "      <td>0.245408</td>\n",
       "      <td>09:53</td>\n",
       "    </tr>\n",
       "    <tr>\n",
       "      <td>3</td>\n",
       "      <td>1.961882</td>\n",
       "      <td>2.023704</td>\n",
       "      <td>0.351852</td>\n",
       "      <td>0.238450</td>\n",
       "      <td>09:01</td>\n",
       "    </tr>\n",
       "  </tbody>\n",
       "</table>"
      ],
      "text/plain": [
       "<IPython.core.display.HTML object>"
      ]
     },
     "metadata": {},
     "output_type": "display_data"
    }
   ],
   "source": [
    "num_cycles = 4\n",
    "\n",
    "file = ft_file + str(prev_cycles)\n",
    "learner_file = base_path/file\n",
    "callback_save_file = str(learner_file) + '_auto'\n",
    "\n",
    "learn.fit_one_cycle(num_cycles, slice(1e-2/(2.6**4),1e-2), moms=(0.8,0.7),\n",
    "                    callbacks=[\n",
    "                        callbacks.SaveModelCallback(learn, every='epoch', monitor='accuracy', name=callback_save_file),\n",
    "                        # CSVLogger only logs when num_cycles are complete\n",
    "                        callbacks.CSVLogger(learn, filename=training_history_file, append=True)\n",
    "                    ])\n",
    "file = ft_file + str(prev_cycles + num_cycles)\n",
    "learner_file = base_path/file\n",
    "learn.save(learner_file)\n",
    "\n",
    "with open(cycles_file, 'wb') as f:\n",
    "    pickle.dump(num_cycles + prev_cycles, f)\n",
    "release_mem()\n"
   ]
  },
  {
   "cell_type": "code",
   "execution_count": 56,
   "metadata": {},
   "outputs": [
    {
     "data": {
      "image/png": "[encoded data removed]",
      "text/plain": [
       "<Figure size 720x720 with 1 Axes>"
      ]
     },
     "metadata": {
      "needs_background": "light"
     },
     "output_type": "display_data"
    }
   ],
   "source": [
    "interp = ClassificationInterpretation.from_learner(learn)\n",
    "interp.top_losses()\n",
    "interp.plot_confusion_matrix(figsize=(12,12), dpi=60)"
   ]
  },
  {
   "cell_type": "code",
   "execution_count": null,
   "metadata": {},
   "outputs": [],
   "source": []
  }
 ],
 "metadata": {
  "kernelspec": {
   "display_name": "Python (fastai)",
   "language": "python",
   "name": "fastai"
  },
  "language_info": {
   "codemirror_mode": {
    "name": "ipython",
    "version": 3
   },
   "file_extension": ".py",
   "mimetype": "text/x-python",
   "name": "python",
   "nbconvert_exporter": "python",
   "pygments_lexer": "ipython3",
   "version": "3.6.9"
  }
 },
 "nbformat": 4,
 "nbformat_minor": 4
}
