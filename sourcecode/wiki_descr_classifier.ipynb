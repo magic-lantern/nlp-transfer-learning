{
 "cells": [
  {
   "cell_type": "markdown",
   "metadata": {},
   "source": [
    "# Based on general purpose language model, train a 'DESCRIPTION' classifier\n",
    "\n",
    "Instead of building from a MIMIC trained language model, use the general purpose ULMFit Wiki trained model"
   ]
  },
  {
   "cell_type": "code",
   "execution_count": 1,
   "metadata": {},
   "outputs": [],
   "source": [
    "from fastai.text import *\n",
    "from sklearn.model_selection import train_test_split\n",
    "import glob\n",
    "import gc"
   ]
  },
  {
   "cell_type": "markdown",
   "metadata": {},
   "source": [
    "Setup filenames and paths"
   ]
  },
  {
   "cell_type": "code",
   "execution_count": 2,
   "metadata": {},
   "outputs": [],
   "source": [
    "# pandas doesn't understand ~, so provide full path\n",
    "base_path = Path.home() / 'mimic'\n",
    "\n",
    "# files used during processing - all aggregated here\n",
    "admissions_file = base_path/'ADMISSIONS.csv'\n",
    "notes_file = base_path/'NOTEEVENTS.csv'\n",
    "\n",
    "class_file = 'wiki_cl_data.pickle'\n",
    "notes_pickle_file = base_path/'noteevents.pickle'\n",
    "lm_file = 'cl_lm.pickle' # actual file is at base_path/lm_file but due to fastai function, have to pass file name separately\n",
    "init_model_file = base_path/'wiki_cl_head'\n",
    "cycles_file = base_path/'wiki_cl_num_iterations.pickle'\n",
    "enc_file = 'wiki_cl_enc'\n",
    "freeze_two = base_path/'wiki_cl_freeze_two'\n",
    "freeze_three = base_path/'wiki_cl_freeze_three'\n",
    "descr_ft_file = 'wiki_cl_fine_tuned_'\n",
    "\n",
    "training_history_file = 'wiki_cl_history'"
   ]
  },
  {
   "cell_type": "markdown",
   "metadata": {},
   "source": [
    "Setup parameters for models"
   ]
  },
  {
   "cell_type": "code",
   "execution_count": 3,
   "metadata": {},
   "outputs": [],
   "source": [
    "# original data set too large to work with in reasonable time due to limted GPU resources\n",
    "pct_data_sample = 0.1\n",
    "# how much to hold out for validation\n",
    "valid_pct = 0.2\n",
    "# for repeatability set seed; different seed than used with language model\n",
    "seed = 1776\n",
    "lm_seed = 42\n",
    "# changing batch size affects learning rate\n",
    "bs=96"
   ]
  },
  {
   "cell_type": "code",
   "execution_count": 4,
   "metadata": {},
   "outputs": [],
   "source": [
    "# if this doesn't free memory, can restart Python kernel.\n",
    "# if that still doesn't work, try OS items mentioned here: https://docs.fast.ai/dev/gpu.html\n",
    "def release_mem():\n",
    "    gc.collect()\n",
    "    torch.cuda.empty_cache()\n",
    "release_mem()"
   ]
  },
  {
   "cell_type": "code",
   "execution_count": 5,
   "metadata": {},
   "outputs": [
    {
     "name": "stdout",
     "output_type": "stream",
     "text": [
      "Loading noteevent pickle file\n",
      "(2083180, 11)\n"
     ]
    }
   ],
   "source": [
    "orig_df = pd.DataFrame()\n",
    "if os.path.isfile(notes_pickle_file):\n",
    "    print('Loading noteevent pickle file')\n",
    "    orig_df = pd.read_pickle(notes_pickle_file)\n",
    "    print(orig_df.shape)\n",
    "else:\n",
    "    print('Could not find noteevent pickle file; creating it')\n",
    "    # run this the first time to covert CSV to Pickle file\n",
    "    orig_df = pd.read_csv(notes_file, low_memory=False, memory_map=True)\n",
    "    orig_df.to_pickle(notes_pickle_file)"
   ]
  },
  {
   "cell_type": "code",
   "execution_count": 6,
   "metadata": {},
   "outputs": [],
   "source": [
    "df = orig_df.sample(frac=pct_data_sample, random_state=seed)"
   ]
  },
  {
   "cell_type": "code",
   "execution_count": 7,
   "metadata": {},
   "outputs": [
    {
     "data": {
      "text/html": [
       "<div>\n",
       "<style scoped>\n",
       "    .dataframe tbody tr th:only-of-type {\n",
       "        vertical-align: middle;\n",
       "    }\n",
       "\n",
       "    .dataframe tbody tr th {\n",
       "        vertical-align: top;\n",
       "    }\n",
       "\n",
       "    .dataframe thead th {\n",
       "        text-align: right;\n",
       "    }\n",
       "</style>\n",
       "<table border=\"1\" class=\"dataframe\">\n",
       "  <thead>\n",
       "    <tr style=\"text-align: right;\">\n",
       "      <th></th>\n",
       "      <th>ROW_ID</th>\n",
       "      <th>SUBJECT_ID</th>\n",
       "      <th>HADM_ID</th>\n",
       "      <th>CHARTDATE</th>\n",
       "      <th>CHARTTIME</th>\n",
       "      <th>STORETIME</th>\n",
       "      <th>CATEGORY</th>\n",
       "      <th>DESCRIPTION</th>\n",
       "      <th>CGID</th>\n",
       "      <th>ISERROR</th>\n",
       "      <th>TEXT</th>\n",
       "    </tr>\n",
       "  </thead>\n",
       "  <tbody>\n",
       "    <tr>\n",
       "      <th>1452901</th>\n",
       "      <td>1454539</td>\n",
       "      <td>14755</td>\n",
       "      <td>151669.0</td>\n",
       "      <td>2125-02-13</td>\n",
       "      <td>2125-02-13 05:37:00</td>\n",
       "      <td>2125-02-13 05:40:00</td>\n",
       "      <td>Nursing/other</td>\n",
       "      <td>Report</td>\n",
       "      <td>19585.0</td>\n",
       "      <td>NaN</td>\n",
       "      <td>Respiratory Care:\\nPatient on PSV overnight of...</td>\n",
       "    </tr>\n",
       "    <tr>\n",
       "      <th>462929</th>\n",
       "      <td>466766</td>\n",
       "      <td>46041</td>\n",
       "      <td>176979.0</td>\n",
       "      <td>2160-06-02</td>\n",
       "      <td>2160-06-02 02:43:00</td>\n",
       "      <td>2160-06-02 02:57:32</td>\n",
       "      <td>Nursing</td>\n",
       "      <td>Nursing Progress Note</td>\n",
       "      <td>18654.0</td>\n",
       "      <td>NaN</td>\n",
       "      <td>Shock, cardiogenic\\n   Assessment:\\n   Hemodyn...</td>\n",
       "    </tr>\n",
       "    <tr>\n",
       "      <th>227661</th>\n",
       "      <td>237449</td>\n",
       "      <td>81883</td>\n",
       "      <td>118744.0</td>\n",
       "      <td>2143-10-28</td>\n",
       "      <td>NaN</td>\n",
       "      <td>NaN</td>\n",
       "      <td>ECG</td>\n",
       "      <td>Report</td>\n",
       "      <td>NaN</td>\n",
       "      <td>NaN</td>\n",
       "      <td>Compared to tracing #1 the patient's rate has ...</td>\n",
       "    </tr>\n",
       "    <tr>\n",
       "      <th>597361</th>\n",
       "      <td>603087</td>\n",
       "      <td>50450</td>\n",
       "      <td>147724.0</td>\n",
       "      <td>2191-09-20</td>\n",
       "      <td>2191-09-20 23:48:00</td>\n",
       "      <td>2191-09-20 23:48:27</td>\n",
       "      <td>Physician</td>\n",
       "      <td>Physician Attending Admission Note - MICU</td>\n",
       "      <td>16383.0</td>\n",
       "      <td>NaN</td>\n",
       "      <td>Chief Complaint:  GI Bleed-melena and hemateme...</td>\n",
       "    </tr>\n",
       "    <tr>\n",
       "      <th>973311</th>\n",
       "      <td>962711</td>\n",
       "      <td>7287</td>\n",
       "      <td>108868.0</td>\n",
       "      <td>2152-06-02</td>\n",
       "      <td>2152-06-02 23:18:00</td>\n",
       "      <td>NaN</td>\n",
       "      <td>Radiology</td>\n",
       "      <td>PELVIS PORTABLE</td>\n",
       "      <td>NaN</td>\n",
       "      <td>NaN</td>\n",
       "      <td>[**2152-6-2**] 11:18 PM\\n PELVIS PORTABLE     ...</td>\n",
       "    </tr>\n",
       "  </tbody>\n",
       "</table>\n",
       "</div>"
      ],
      "text/plain": [
       "          ROW_ID  SUBJECT_ID   HADM_ID   CHARTDATE            CHARTTIME  \\\n",
       "1452901  1454539       14755  151669.0  2125-02-13  2125-02-13 05:37:00   \n",
       "462929    466766       46041  176979.0  2160-06-02  2160-06-02 02:43:00   \n",
       "227661    237449       81883  118744.0  2143-10-28                  NaN   \n",
       "597361    603087       50450  147724.0  2191-09-20  2191-09-20 23:48:00   \n",
       "973311    962711        7287  108868.0  2152-06-02  2152-06-02 23:18:00   \n",
       "\n",
       "                   STORETIME       CATEGORY  \\\n",
       "1452901  2125-02-13 05:40:00  Nursing/other   \n",
       "462929   2160-06-02 02:57:32        Nursing   \n",
       "227661                   NaN            ECG   \n",
       "597361   2191-09-20 23:48:27     Physician    \n",
       "973311                   NaN      Radiology   \n",
       "\n",
       "                                       DESCRIPTION     CGID  ISERROR  \\\n",
       "1452901                                     Report  19585.0      NaN   \n",
       "462929                       Nursing Progress Note  18654.0      NaN   \n",
       "227661                                      Report      NaN      NaN   \n",
       "597361   Physician Attending Admission Note - MICU  16383.0      NaN   \n",
       "973311                             PELVIS PORTABLE      NaN      NaN   \n",
       "\n",
       "                                                      TEXT  \n",
       "1452901  Respiratory Care:\\nPatient on PSV overnight of...  \n",
       "462929   Shock, cardiogenic\\n   Assessment:\\n   Hemodyn...  \n",
       "227661   Compared to tracing #1 the patient's rate has ...  \n",
       "597361   Chief Complaint:  GI Bleed-melena and hemateme...  \n",
       "973311   [**2152-6-2**] 11:18 PM\\n PELVIS PORTABLE     ...  "
      ]
     },
     "execution_count": 7,
     "metadata": {},
     "output_type": "execute_result"
    }
   ],
   "source": [
    "df.head()"
   ]
  },
  {
   "cell_type": "code",
   "execution_count": 8,
   "metadata": {},
   "outputs": [
    {
     "name": "stdout",
     "output_type": "stream",
     "text": [
      "Unique Categories: 15\n",
      "Unique Descriptions: 1708\n"
     ]
    }
   ],
   "source": [
    "print('Unique Categories:', len(df.CATEGORY.unique()))\n",
    "print('Unique Descriptions:', len(df.DESCRIPTION.unique()))"
   ]
  },
  {
   "cell_type": "code",
   "execution_count": 9,
   "metadata": {},
   "outputs": [
    {
     "data": {
      "text/plain": [
       "Report                                               113589\n",
       "Nursing Progress Note                                 19169\n",
       "CHEST (PORTABLE AP)                                   17102\n",
       "Physician Resident Progress Note                       6311\n",
       "CHEST (PA & LAT)                                       4463\n",
       "                                                      ...  \n",
       "B CHEST (LAT DECUB ONLY) BILAT                            1\n",
       "Physician Resident (Attending Addendum) Admission         1\n",
       "ICU Event Note death                                      1\n",
       "Surgical Intensivist ICU                                  1\n",
       "FNA, ANY LOCATION                                         1\n",
       "Name: DESCRIPTION, Length: 1708, dtype: int64"
      ]
     },
     "execution_count": 9,
     "metadata": {},
     "output_type": "execute_result"
    }
   ],
   "source": [
    "df.DESCRIPTION.value_counts()"
   ]
  },
  {
   "cell_type": "code",
   "execution_count": 10,
   "metadata": {},
   "outputs": [
    {
     "data": {
      "text/plain": [
       "695"
      ]
     },
     "execution_count": 10,
     "metadata": {},
     "output_type": "execute_result"
    }
   ],
   "source": [
    "# quite an imbalance between various DESCRIPTIONS\n",
    "s = df.DESCRIPTION.value_counts()\n",
    "len(s[s == 1])"
   ]
  },
  {
   "cell_type": "markdown",
   "metadata": {},
   "source": [
    "### Create language model without fine-tuning\n",
    "\n",
    "Normally you would use transfer learning to adjust the language model to the new data.\n",
    "\n",
    "In this case, I just want to test how the classifier would work without fine-tuning the language model. This is taking the WT-103 pretrained weights and updating the vocabulary to match MIMIC with no new training."
   ]
  },
  {
   "cell_type": "code",
   "execution_count": 11,
   "metadata": {},
   "outputs": [
    {
     "name": "stdout",
     "output_type": "stream",
     "text": [
      "completed creating new language model\n",
      "CPU times: user 53.6 s, sys: 16.4 s, total: 1min 9s\n",
      "Wall time: 3min 32s\n"
     ]
    }
   ],
   "source": [
    "%%time\n",
    "\n",
    "tmpfile = base_path/lm_file\n",
    "\n",
    "if os.path.isfile(tmpfile):\n",
    "    print('loading existing language model')\n",
    "    lm = load_data(base_path, lm_file, bs=bs)\n",
    "else:\n",
    "    print('creating new language model')\n",
    "    lm_df = orig_df.sample(frac=pct_data_sample, random_state=lm_seed)\n",
    "    lm = (TextList.from_df(lm_df, base_path, cols='TEXT')\n",
    "               #df has several columns; actual text is in column TEXT\n",
    "               .split_by_rand_pct(valid_pct=valid_pct, seed=lm_seed)\n",
    "               #We randomly split and keep 10% for validation\n",
    "               .label_for_lm()\n",
    "               #We want to do a language model so we label accordingly\n",
    "               .databunch(bs=bs))\n",
    "    lm.save(tmpfile)\n",
    "    print('completed creating new language model')"
   ]
  },
  {
   "cell_type": "code",
   "execution_count": 12,
   "metadata": {},
   "outputs": [],
   "source": [
    "learn = language_model_learner(lm, AWD_LSTM, drop_mult=0.3)\n",
    "learn.save_encoder(enc_file)"
   ]
  },
  {
   "cell_type": "markdown",
   "metadata": {},
   "source": [
    "#### This is a very CPU and RAM intensive process - no GPU involved\n",
    "\n",
    "Also, since there are a wide range of descriptions, not all descriptions present in the test set are in the validation set, so cannot learn all of them."
   ]
  },
  {
   "cell_type": "code",
   "execution_count": 13,
   "metadata": {},
   "outputs": [
    {
     "name": "stderr",
     "output_type": "stream",
     "text": [
      "/data/anaconda/envs/fastai/lib/python3.6/site-packages/fastai/data_block.py:534: UserWarning: You are labelling your items with CategoryList.\n",
      "Your valid set contained the following unknown labels, the corresponding items have been discarded.\n",
      "BILATERAL, Physician Resident/Attending Progress Note - MICUf, FNA, ANY LOCATION, Medical Student CCU Progress Note, OB KNEE (2 VIEWS) IN O.R. BILAT...\n",
      "  if getattr(ds, 'warn', False): warn(ds.warn)\n"
     ]
    },
    {
     "name": "stdout",
     "output_type": "stream",
     "text": [
      "created new data bunch\n"
     ]
    }
   ],
   "source": [
    "filename = base_path/class_file\n",
    "if os.path.isfile(filename):\n",
    "    data_cl = load_data(base_path, class_file, bs=bs)\n",
    "    print('loaded existing data bunch')\n",
    "else:\n",
    "    print('creating new data bunch')\n",
    "    data_cl = (TextList.from_df(df, base_path, cols='TEXT', vocab=lm.vocab)\n",
    "               #df has several columns; actual text is in column TEXT\n",
    "               .split_by_rand_pct(valid_pct=valid_pct, seed=seed)\n",
    "               #We randomly split and keep 20% for validation, set see for repeatability\n",
    "               .label_from_df(cols='DESCRIPTION')\n",
    "               #building classifier to automatically determine DESCRIPTION\n",
    "               .databunch(bs=bs))\n",
    "    data_cl.save(filename)\n",
    "    print('created new data bunch')"
   ]
  },
  {
   "cell_type": "code",
   "execution_count": 20,
   "metadata": {},
   "outputs": [],
   "source": [
    "learn = text_classifier_learner(data_cl, AWD_LSTM, drop_mult=0.5, metrics=[accuracy, FBeta(average='weighted', beta=1)])\n",
    "learn.load_encoder(enc_file)"
   ]
  },
  {
   "cell_type": "code",
   "execution_count": 15,
   "metadata": {},
   "outputs": [
    {
     "data": {
      "text/html": [],
      "text/plain": [
       "<IPython.core.display.HTML object>"
      ]
     },
     "metadata": {},
     "output_type": "display_data"
    },
    {
     "name": "stdout",
     "output_type": "stream",
     "text": [
      "LR Finder is complete, type {learner_name}.recorder.plot() to see the graph.\n"
     ]
    }
   ],
   "source": [
    "learn.lr_find()"
   ]
  },
  {
   "cell_type": "code",
   "execution_count": 16,
   "metadata": {},
   "outputs": [
    {
     "data": {
      "image/png": "[encoded data removed]",
      "text/plain": [
       "<Figure size 432x288 with 1 Axes>"
      ]
     },
     "metadata": {
      "needs_background": "light"
     },
     "output_type": "display_data"
    }
   ],
   "source": [
    "learn.recorder.plot()"
   ]
  },
  {
   "cell_type": "markdown",
   "metadata": {
    "lines_to_next_cell": 0
   },
   "source": [
    "Change learning rate based on results from the above plot"
   ]
  },
  {
   "cell_type": "code",
   "execution_count": 17,
   "metadata": {},
   "outputs": [
    {
     "name": "stdout",
     "output_type": "stream",
     "text": [
      "loaded initial learner\n"
     ]
    }
   ],
   "source": [
    "if os.path.isfile(str(init_model_file) + '.pth'):\n",
    "    learn.load(init_model_file)\n",
    "    print('loaded initial learner')\n",
    "else:\n",
    "    print('Training new initial learner')\n",
    "    learn.fit_one_cycle(1, 5e-2, moms=(0.8,0.7),\n",
    "                       callbacks=[\n",
    "                           callbacks.CSVLogger(learn, filename=training_history_file, append=True)\n",
    "                       ])\n",
    "    print('Saving new learner')\n",
    "    learn.save(init_model_file)\n",
    "    print('Finished generating new learner')"
   ]
  },
  {
   "cell_type": "markdown",
   "metadata": {
    "lines_to_next_cell": 0
   },
   "source": [
    "Now need to fine tune\n",
    "\n",
    "    epoch\ttrain_loss\tvalid_loss\taccuracy\tf_beta\ttime\n",
    "        0\t0.522397\t1.165042\t0.925112\t0.909121\t26:11\n"
   ]
  },
  {
   "cell_type": "code",
   "execution_count": 18,
   "metadata": {},
   "outputs": [
    {
     "name": "stdout",
     "output_type": "stream",
     "text": [
      "Training new freeze_two learner\n"
     ]
    },
    {
     "data": {
      "text/html": [
       "<table border=\"1\" class=\"dataframe\">\n",
       "  <thead>\n",
       "    <tr style=\"text-align: left;\">\n",
       "      <th>epoch</th>\n",
       "      <th>train_loss</th>\n",
       "      <th>valid_loss</th>\n",
       "      <th>accuracy</th>\n",
       "      <th>f_beta</th>\n",
       "      <th>time</th>\n",
       "    </tr>\n",
       "  </thead>\n",
       "  <tbody>\n",
       "    <tr>\n",
       "      <td>0</td>\n",
       "      <td>0.522397</td>\n",
       "      <td>1.165042</td>\n",
       "      <td>0.925112</td>\n",
       "      <td>0.909121</td>\n",
       "      <td>26:11</td>\n",
       "    </tr>\n",
       "  </tbody>\n",
       "</table>"
      ],
      "text/plain": [
       "<IPython.core.display.HTML object>"
      ]
     },
     "metadata": {},
     "output_type": "display_data"
    },
    {
     "name": "stdout",
     "output_type": "stream",
     "text": [
      "Saving new freeze_two learner\n",
      "Finished generating new freeze_two learner\n"
     ]
    }
   ],
   "source": [
    "if os.path.isfile(str(freeze_two) + '.pth'):\n",
    "    learn.load(freeze_two)\n",
    "    print('loaded freeze_two learner')\n",
    "else:\n",
    "    print('Training new freeze_two learner')\n",
    "    learn.freeze_to(-2)\n",
    "    learn.fit_one_cycle(1, slice(5e-2/(2.6**4),5e-2), moms=(0.8,0.7),\n",
    "                        callbacks=[\n",
    "                           callbacks.CSVLogger(learn, filename=training_history_file, append=True)\n",
    "                       ])\n",
    "    print('Saving new freeze_two learner')\n",
    "    learn.save(freeze_two)\n",
    "    print('Finished generating new freeze_two learner')"
   ]
  },
  {
   "cell_type": "markdown",
   "metadata": {},
   "source": [
    "    epoch\ttrain_loss\tvalid_loss\taccuracy\tf_beta\ttime\n",
    "        0\t0.343909\t36.842651\t0.940099\t0.927041\t38:25"
   ]
  },
  {
   "cell_type": "code",
   "execution_count": 19,
   "metadata": {},
   "outputs": [
    {
     "name": "stdout",
     "output_type": "stream",
     "text": [
      "Training new freeze_three learner\n"
     ]
    },
    {
     "data": {
      "text/html": [
       "<table border=\"1\" class=\"dataframe\">\n",
       "  <thead>\n",
       "    <tr style=\"text-align: left;\">\n",
       "      <th>epoch</th>\n",
       "      <th>train_loss</th>\n",
       "      <th>valid_loss</th>\n",
       "      <th>accuracy</th>\n",
       "      <th>f_beta</th>\n",
       "      <th>time</th>\n",
       "    </tr>\n",
       "  </thead>\n",
       "  <tbody>\n",
       "    <tr>\n",
       "      <td>0</td>\n",
       "      <td>0.343909</td>\n",
       "      <td>36.842651</td>\n",
       "      <td>0.940099</td>\n",
       "      <td>0.927041</td>\n",
       "      <td>38:25</td>\n",
       "    </tr>\n",
       "  </tbody>\n",
       "</table>"
      ],
      "text/plain": [
       "<IPython.core.display.HTML object>"
      ]
     },
     "metadata": {},
     "output_type": "display_data"
    },
    {
     "name": "stdout",
     "output_type": "stream",
     "text": [
      "Saving new freeze_three learner\n",
      "Finished generating new freeze_three learner\n"
     ]
    }
   ],
   "source": [
    "if os.path.isfile(str(freeze_three) + '.pth'):\n",
    "    learn.load(freeze_three)\n",
    "    print('loaded freeze_three learner')\n",
    "else:\n",
    "    print('Training new freeze_three learner')\n",
    "    learn.freeze_to(-3)\n",
    "    learn.fit_one_cycle(1, slice(1e-2/(2.6**4),1e-2), moms=(0.8,0.7),\n",
    "                       callbacks=[\n",
    "                           callbacks.CSVLogger(learn, filename=training_history_file, append=True)\n",
    "                       ])\n",
    "    print('Saving new freeze_three learner')\n",
    "    learn.save(freeze_three)\n",
    "    print('Finished generating new freeze_three learner')"
   ]
  },
  {
   "cell_type": "code",
   "execution_count": 20,
   "metadata": {},
   "outputs": [],
   "source": [
    "learn.unfreeze()"
   ]
  },
  {
   "cell_type": "code",
   "execution_count": 21,
   "metadata": {},
   "outputs": [
    {
     "data": {
      "text/html": [],
      "text/plain": [
       "<IPython.core.display.HTML object>"
      ]
     },
     "metadata": {},
     "output_type": "display_data"
    },
    {
     "name": "stdout",
     "output_type": "stream",
     "text": [
      "LR Finder is complete, type {learner_name}.recorder.plot() to see the graph.\n"
     ]
    },
    {
     "data": {
      "image/png": "[encoded data removed]",
      "text/plain": [
       "<Figure size 432x288 with 1 Axes>"
      ]
     },
     "metadata": {
      "needs_background": "light"
     },
     "output_type": "display_data"
    }
   ],
   "source": [
    "learn.lr_find()\n",
    "learn.recorder.plot()"
   ]
  },
  {
   "cell_type": "code",
   "execution_count": 22,
   "metadata": {},
   "outputs": [],
   "source": [
    "release_mem()"
   ]
  },
  {
   "cell_type": "code",
   "execution_count": 23,
   "metadata": {},
   "outputs": [],
   "source": [
    "if os.path.isfile(cycles_file):\n",
    "    with open(cycles_file, 'rb') as f:\n",
    "        prev_cycles = pickle.load(f)\n",
    "    print('This model has been trained for', prev_cycles, 'epochs already')  \n",
    "else:\n",
    "    prev_cycles = 0"
   ]
  },
  {
   "cell_type": "code",
   "execution_count": null,
   "metadata": {},
   "outputs": [
    {
     "data": {
      "text/html": [
       "\n",
       "    <div>\n",
       "        <style>\n",
       "            /* Turns off some styling */\n",
       "            progress {\n",
       "                /* gets rid of default border in Firefox and Opera. */\n",
       "                border: none;\n",
       "                /* Needs to be in here for Safari polyfill so background images work as expected. */\n",
       "                background-size: auto;\n",
       "            }\n",
       "            .progress-bar-interrupted, .progress-bar-interrupted::-webkit-progress-bar {\n",
       "                background: #F44336;\n",
       "            }\n",
       "        </style>\n",
       "      <progress value='0' class='' max='7', style='width:300px; height:20px; vertical-align: middle;'></progress>\n",
       "      0.00% [0/7 00:00<00:00]\n",
       "    </div>\n",
       "    \n",
       "<table border=\"1\" class=\"dataframe\">\n",
       "  <thead>\n",
       "    <tr style=\"text-align: left;\">\n",
       "      <th>epoch</th>\n",
       "      <th>train_loss</th>\n",
       "      <th>valid_loss</th>\n",
       "      <th>accuracy</th>\n",
       "      <th>f_beta</th>\n",
       "      <th>time</th>\n",
       "    </tr>\n",
       "  </thead>\n",
       "  <tbody>\n",
       "  </tbody>\n",
       "</table><p>\n",
       "\n",
       "    <div>\n",
       "        <style>\n",
       "            /* Turns off some styling */\n",
       "            progress {\n",
       "                /* gets rid of default border in Firefox and Opera. */\n",
       "                border: none;\n",
       "                /* Needs to be in here for Safari polyfill so background images work as expected. */\n",
       "                background-size: auto;\n",
       "            }\n",
       "            .progress-bar-interrupted, .progress-bar-interrupted::-webkit-progress-bar {\n",
       "                background: #F44336;\n",
       "            }\n",
       "        </style>\n",
       "      <progress value='292' class='' max='1735', style='width:300px; height:20px; vertical-align: middle;'></progress>\n",
       "      16.83% [292/1735 05:27<26:58 0.3783]\n",
       "    </div>\n",
       "    "
      ],
      "text/plain": [
       "<IPython.core.display.HTML object>"
      ]
     },
     "metadata": {},
     "output_type": "display_data"
    }
   ],
   "source": [
    "num_cycles = 7\n",
    "\n",
    "file = descr_ft_file + str(prev_cycles)\n",
    "learner_file = base_path/file\n",
    "callback_save_file = str(learner_file) + '_auto'\n",
    "\n",
    "learn.fit_one_cycle(num_cycles, slice(5e-3/(2.6**4),5e-3), moms=(0.8,0.7),\n",
    "                    callbacks=[\n",
    "                        callbacks.SaveModelCallback(learn, every='epoch', monitor='accuracy', name=callback_save_file),\n",
    "                        # CSVLogger only logs when num_cycles are complete\n",
    "                        callbacks.CSVLogger(learn, filename=training_history_file, append=True)\n",
    "                    ])\n",
    "file = descr_ft_file + str(prev_cycles + num_cycles)\n",
    "learner_file = base_path/file\n",
    "learn.save(learner_file)\n",
    "\n",
    "with open(cycles_file, 'wb') as f:\n",
    "    pickle.dump(num_cycles + prev_cycles, f)\n",
    "release_mem()"
   ]
  },
  {
   "cell_type": "code",
   "execution_count": null,
   "metadata": {},
   "outputs": [],
   "source": []
  }
 ],
 "metadata": {
  "kernelspec": {
   "display_name": "Python (fastai)",
   "language": "python",
   "name": "fastai"
  },
  "language_info": {
   "codemirror_mode": {
    "name": "ipython",
    "version": 3
   },
   "file_extension": ".py",
   "mimetype": "text/x-python",
   "name": "python",
   "nbconvert_exporter": "python",
   "pygments_lexer": "ipython3",
   "version": "3.6.9"
  }
 },
 "nbformat": 4,
 "nbformat_minor": 4
}
