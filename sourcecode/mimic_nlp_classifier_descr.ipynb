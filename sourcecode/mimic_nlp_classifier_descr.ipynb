{
 "cells": [
  {
   "cell_type": "markdown",
   "metadata": {},
   "source": [
    "# Based on our custom MIMIC language model, train a 'DESCRIPTION' classifier\n",
    "\n",
    "Make sure mimic_nlp_lm has been run first and sucessfully completed. That notebook builds the language model that allows classificiation to occur."
   ]
  },
  {
   "cell_type": "code",
   "execution_count": 1,
   "metadata": {},
   "outputs": [],
   "source": [
    "from fastai.text import *\n",
    "from sklearn.model_selection import train_test_split\n",
    "import glob\n",
    "import gc"
   ]
  },
  {
   "cell_type": "markdown",
   "metadata": {},
   "source": [
    "Setup filenames and paths"
   ]
  },
  {
   "cell_type": "code",
   "execution_count": 2,
   "metadata": {},
   "outputs": [],
   "source": [
    "# pandas doesn't understand ~, so provide full path\n",
    "base_path = Path.home() / 'mimic'\n",
    "\n",
    "# files used during processing - all aggregated here\n",
    "admissions_file = base_path/'ADMISSIONS.csv'\n",
    "notes_file = base_path/'NOTEEVENTS.csv'\n",
    "\n",
    "class_file = 'descr_cl_data.pickle'\n",
    "notes_pickle_file = base_path/'noteevents.pickle'\n",
    "lm_file = 'mimic_lm.pickle' # actual file is at base_path/lm_file but due to fastai function, have to pass file name separately\n",
    "init_model_file = base_path/'descr_cl_head'\n",
    "cycles_file = base_path/'descr_cl_num_iterations.pickle'\n",
    "enc_file = 'mimic_fine_tuned_enc'\n",
    "freeze_two = base_path/'descr_cl_freeze_two'\n",
    "freeze_three = base_path/'descr_cl_freeze_three'\n",
    "ft_file = 'descr_cl_fine_tuned_'\n",
    "\n",
    "training_history_file = 'descr_cl_history'"
   ]
  },
  {
   "cell_type": "markdown",
   "metadata": {},
   "source": [
    "Setup parameters for models"
   ]
  },
  {
   "cell_type": "code",
   "execution_count": 3,
   "metadata": {},
   "outputs": [],
   "source": [
    "# original data set too large to work with in reasonable time due to limted GPU resources\n",
    "pct_data_sample = 0.1\n",
    "# how much to hold out for validation\n",
    "valid_pct = 0.2\n",
    "# for repeatability - different seed than used with language model\n",
    "seed = 1776\n",
    "# batch size of 96 GPU uses 15GB RAM\n",
    "# batch size of 64 GPU uses 11GB RAM\n",
    "# batch size of 48 GPU uses ??GB RAM\n",
    "# changing batch size affects learning rate\n",
    "bs=96"
   ]
  },
  {
   "cell_type": "code",
   "execution_count": 4,
   "metadata": {},
   "outputs": [],
   "source": [
    "# if this doesn't free memory, can restart Python kernel.\n",
    "# if that still doesn't work, try OS items mentioned here: https://docs.fast.ai/dev/gpu.html\n",
    "def release_mem():\n",
    "    gc.collect()\n",
    "    torch.cuda.empty_cache()\n",
    "release_mem()"
   ]
  },
  {
   "cell_type": "code",
   "execution_count": 5,
   "metadata": {},
   "outputs": [
    {
     "name": "stdout",
     "output_type": "stream",
     "text": [
      "Loading noteevent pickle file\n",
      "(2083180, 11)\n"
     ]
    }
   ],
   "source": [
    "orig_df = pd.DataFrame()\n",
    "if os.path.isfile(notes_pickle_file):\n",
    "    print('Loading noteevent pickle file')\n",
    "    orig_df = pd.read_pickle(notes_pickle_file)\n",
    "    print(orig_df.shape)\n",
    "else:\n",
    "    print('Could not find noteevent pickle file; creating it')\n",
    "    # run this the first time to covert CSV to Pickle file\n",
    "    orig_df = pd.read_csv(notes_file, low_memory=False, memory_map=True)\n",
    "    orig_df.to_pickle(notes_pickle_file)"
   ]
  },
  {
   "cell_type": "markdown",
   "metadata": {},
   "source": [
    "Since seed is different, this should be quite different than the language model dataset.\n",
    "\n",
    "Should I show details on how many records are in language model dataset?"
   ]
  },
  {
   "cell_type": "code",
   "execution_count": 6,
   "metadata": {},
   "outputs": [],
   "source": [
    "df = orig_df.sample(frac=pct_data_sample, random_state=seed)"
   ]
  },
  {
   "cell_type": "code",
   "execution_count": 7,
   "metadata": {},
   "outputs": [
    {
     "data": {
      "text/html": [
       "<div>\n",
       "<style scoped>\n",
       "    .dataframe tbody tr th:only-of-type {\n",
       "        vertical-align: middle;\n",
       "    }\n",
       "\n",
       "    .dataframe tbody tr th {\n",
       "        vertical-align: top;\n",
       "    }\n",
       "\n",
       "    .dataframe thead th {\n",
       "        text-align: right;\n",
       "    }\n",
       "</style>\n",
       "<table border=\"1\" class=\"dataframe\">\n",
       "  <thead>\n",
       "    <tr style=\"text-align: right;\">\n",
       "      <th></th>\n",
       "      <th>ROW_ID</th>\n",
       "      <th>SUBJECT_ID</th>\n",
       "      <th>HADM_ID</th>\n",
       "      <th>CHARTDATE</th>\n",
       "      <th>CHARTTIME</th>\n",
       "      <th>STORETIME</th>\n",
       "      <th>CATEGORY</th>\n",
       "      <th>DESCRIPTION</th>\n",
       "      <th>CGID</th>\n",
       "      <th>ISERROR</th>\n",
       "      <th>TEXT</th>\n",
       "    </tr>\n",
       "  </thead>\n",
       "  <tbody>\n",
       "    <tr>\n",
       "      <th>1452901</th>\n",
       "      <td>1454539</td>\n",
       "      <td>14755</td>\n",
       "      <td>151669.0</td>\n",
       "      <td>2125-02-13</td>\n",
       "      <td>2125-02-13 05:37:00</td>\n",
       "      <td>2125-02-13 05:40:00</td>\n",
       "      <td>Nursing/other</td>\n",
       "      <td>Report</td>\n",
       "      <td>19585.0</td>\n",
       "      <td>NaN</td>\n",
       "      <td>Respiratory Care:\\nPatient on PSV overnight of...</td>\n",
       "    </tr>\n",
       "    <tr>\n",
       "      <th>462929</th>\n",
       "      <td>466766</td>\n",
       "      <td>46041</td>\n",
       "      <td>176979.0</td>\n",
       "      <td>2160-06-02</td>\n",
       "      <td>2160-06-02 02:43:00</td>\n",
       "      <td>2160-06-02 02:57:32</td>\n",
       "      <td>Nursing</td>\n",
       "      <td>Nursing Progress Note</td>\n",
       "      <td>18654.0</td>\n",
       "      <td>NaN</td>\n",
       "      <td>Shock, cardiogenic\\n   Assessment:\\n   Hemodyn...</td>\n",
       "    </tr>\n",
       "    <tr>\n",
       "      <th>227661</th>\n",
       "      <td>237449</td>\n",
       "      <td>81883</td>\n",
       "      <td>118744.0</td>\n",
       "      <td>2143-10-28</td>\n",
       "      <td>NaN</td>\n",
       "      <td>NaN</td>\n",
       "      <td>ECG</td>\n",
       "      <td>Report</td>\n",
       "      <td>NaN</td>\n",
       "      <td>NaN</td>\n",
       "      <td>Compared to tracing #1 the patient's rate has ...</td>\n",
       "    </tr>\n",
       "    <tr>\n",
       "      <th>597361</th>\n",
       "      <td>603087</td>\n",
       "      <td>50450</td>\n",
       "      <td>147724.0</td>\n",
       "      <td>2191-09-20</td>\n",
       "      <td>2191-09-20 23:48:00</td>\n",
       "      <td>2191-09-20 23:48:27</td>\n",
       "      <td>Physician</td>\n",
       "      <td>Physician Attending Admission Note - MICU</td>\n",
       "      <td>16383.0</td>\n",
       "      <td>NaN</td>\n",
       "      <td>Chief Complaint:  GI Bleed-melena and hemateme...</td>\n",
       "    </tr>\n",
       "    <tr>\n",
       "      <th>973311</th>\n",
       "      <td>962711</td>\n",
       "      <td>7287</td>\n",
       "      <td>108868.0</td>\n",
       "      <td>2152-06-02</td>\n",
       "      <td>2152-06-02 23:18:00</td>\n",
       "      <td>NaN</td>\n",
       "      <td>Radiology</td>\n",
       "      <td>PELVIS PORTABLE</td>\n",
       "      <td>NaN</td>\n",
       "      <td>NaN</td>\n",
       "      <td>[**2152-6-2**] 11:18 PM\\n PELVIS PORTABLE     ...</td>\n",
       "    </tr>\n",
       "  </tbody>\n",
       "</table>\n",
       "</div>"
      ],
      "text/plain": [
       "          ROW_ID  SUBJECT_ID   HADM_ID   CHARTDATE            CHARTTIME  \\\n",
       "1452901  1454539       14755  151669.0  2125-02-13  2125-02-13 05:37:00   \n",
       "462929    466766       46041  176979.0  2160-06-02  2160-06-02 02:43:00   \n",
       "227661    237449       81883  118744.0  2143-10-28                  NaN   \n",
       "597361    603087       50450  147724.0  2191-09-20  2191-09-20 23:48:00   \n",
       "973311    962711        7287  108868.0  2152-06-02  2152-06-02 23:18:00   \n",
       "\n",
       "                   STORETIME       CATEGORY  \\\n",
       "1452901  2125-02-13 05:40:00  Nursing/other   \n",
       "462929   2160-06-02 02:57:32        Nursing   \n",
       "227661                   NaN            ECG   \n",
       "597361   2191-09-20 23:48:27     Physician    \n",
       "973311                   NaN      Radiology   \n",
       "\n",
       "                                       DESCRIPTION     CGID  ISERROR  \\\n",
       "1452901                                     Report  19585.0      NaN   \n",
       "462929                       Nursing Progress Note  18654.0      NaN   \n",
       "227661                                      Report      NaN      NaN   \n",
       "597361   Physician Attending Admission Note - MICU  16383.0      NaN   \n",
       "973311                             PELVIS PORTABLE      NaN      NaN   \n",
       "\n",
       "                                                      TEXT  \n",
       "1452901  Respiratory Care:\\nPatient on PSV overnight of...  \n",
       "462929   Shock, cardiogenic\\n   Assessment:\\n   Hemodyn...  \n",
       "227661   Compared to tracing #1 the patient's rate has ...  \n",
       "597361   Chief Complaint:  GI Bleed-melena and hemateme...  \n",
       "973311   [**2152-6-2**] 11:18 PM\\n PELVIS PORTABLE     ...  "
      ]
     },
     "execution_count": 7,
     "metadata": {},
     "output_type": "execute_result"
    }
   ],
   "source": [
    "df.head()"
   ]
  },
  {
   "cell_type": "code",
   "execution_count": 8,
   "metadata": {},
   "outputs": [
    {
     "name": "stdout",
     "output_type": "stream",
     "text": [
      "Unique Categories: 15\n",
      "Unique Descriptions: 1708\n"
     ]
    }
   ],
   "source": [
    "print('Unique Categories:', len(df.CATEGORY.unique()))\n",
    "print('Unique Descriptions:', len(df.DESCRIPTION.unique()))"
   ]
  },
  {
   "cell_type": "code",
   "execution_count": 9,
   "metadata": {},
   "outputs": [
    {
     "data": {
      "text/plain": [
       "Report                              113589\n",
       "Nursing Progress Note                19169\n",
       "CHEST (PORTABLE AP)                  17102\n",
       "Physician Resident Progress Note      6311\n",
       "CHEST (PA & LAT)                      4463\n",
       "                                     ...  \n",
       "R MR ARM W&W/O CONTRAST RIGHT            1\n",
       "L MR THIGH W/O CONTRAST LEFT             1\n",
       "R US MSK CYST (BAKERS) RIGHT             1\n",
       "RNCM Initial Assessment                  1\n",
       "Initial Assessment                       1\n",
       "Name: DESCRIPTION, Length: 1708, dtype: int64"
      ]
     },
     "execution_count": 9,
     "metadata": {},
     "output_type": "execute_result"
    }
   ],
   "source": [
    "# quote an imbalance between various DESCRIPTIONS\n",
    "df.DESCRIPTION.value_counts()"
   ]
  },
  {
   "cell_type": "code",
   "execution_count": 10,
   "metadata": {},
   "outputs": [
    {
     "data": {
      "text/plain": [
       "208318"
      ]
     },
     "execution_count": 10,
     "metadata": {},
     "output_type": "execute_result"
    }
   ],
   "source": [
    "len(df.ROW_ID.unique())"
   ]
  },
  {
   "cell_type": "code",
   "execution_count": 11,
   "metadata": {},
   "outputs": [
    {
     "name": "stdout",
     "output_type": "stream",
     "text": [
      "loading existing language model\n"
     ]
    }
   ],
   "source": [
    "if os.path.isfile(base_path/lm_file):\n",
    "    print('loading existing language model')\n",
    "    lm = load_data(base_path, lm_file, bs=bs)\n",
    "else:\n",
    "    print('ERROR: language model file not found.')"
   ]
  },
  {
   "cell_type": "markdown",
   "metadata": {},
   "source": [
    "#### This is a very CPU and RAM intensive process - no GPU involved\n",
    "\n",
    "Also, since there are a wide range of descriptions, not all descriptions present in the test set are in the validation set, so cannot learn all of them."
   ]
  },
  {
   "cell_type": "code",
   "execution_count": 12,
   "metadata": {},
   "outputs": [
    {
     "name": "stdout",
     "output_type": "stream",
     "text": [
      "loaded existing data bunch\n"
     ]
    }
   ],
   "source": [
    "filename = base_path/class_file\n",
    "if os.path.isfile(filename):\n",
    "    data_cl = load_data(base_path, class_file, bs=bs)\n",
    "    print('loaded existing data bunch')\n",
    "else:\n",
    "    # do I need a vocab here? test with and without...\n",
    "    data_cl = (TextList.from_df(df, base_path, cols='TEXT', vocab=lm.vocab)\n",
    "               #df has several columns; actual text is in column TEXT\n",
    "               .split_by_rand_pct(valid_pct=valid_pct, seed=seed)\n",
    "               #We randomly split and keep 20% for validation, set see for repeatability\n",
    "               .label_from_df(cols='DESCRIPTION')\n",
    "               #building classifier to automatically determine DESCRIPTION\n",
    "               .databunch(bs=bs))\n",
    "    data_cl.save(filename)\n",
    "    print('created new data bunch')"
   ]
  },
  {
   "cell_type": "markdown",
   "metadata": {},
   "source": [
    "### Using weighted F1 to account for class imbalance\n",
    "\n",
    "See https://scikit-learn.org/stable/modules/generated/sklearn.metrics.f1_score.html"
   ]
  },
  {
   "cell_type": "code",
   "execution_count": 13,
   "metadata": {},
   "outputs": [],
   "source": [
    "learn = text_classifier_learner(data_cl, AWD_LSTM, drop_mult=0.5, metrics=[accuracy, FBeta(average='weighted', beta=1)])\n",
    "learn.load_encoder(enc_file)"
   ]
  },
  {
   "cell_type": "code",
   "execution_count": 14,
   "metadata": {},
   "outputs": [
    {
     "data": {
      "text/html": [],
      "text/plain": [
       "<IPython.core.display.HTML object>"
      ]
     },
     "metadata": {},
     "output_type": "display_data"
    },
    {
     "name": "stdout",
     "output_type": "stream",
     "text": [
      "LR Finder is complete, type {learner_name}.recorder.plot() to see the graph.\n"
     ]
    }
   ],
   "source": [
    "learn.lr_find()"
   ]
  },
  {
   "cell_type": "markdown",
   "metadata": {
    "lines_to_next_cell": 0
   },
   "source": [
    "This rate will vary based on batch size. \n",
    "\n",
    "      For bs=96, 5e-2 worked well.\n",
    "      For bs=48, looks like 1e-1 would work\n"
   ]
  },
  {
   "cell_type": "code",
   "execution_count": 15,
   "metadata": {},
   "outputs": [
    {
     "data": {
      "image/png": "[encoded data removed]",
      "text/plain": [
       "<Figure size 432x288 with 1 Axes>"
      ]
     },
     "metadata": {
      "needs_background": "light"
     },
     "output_type": "display_data"
    }
   ],
   "source": [
    "learn.recorder.plot()"
   ]
  },
  {
   "cell_type": "markdown",
   "metadata": {
    "lines_to_next_cell": 0
   },
   "source": [
    "## Now train model\n",
    "\n",
    "Change learning rate based on results from the above plot\n",
    "\n",
    "First unfrozen training results in approximately 90% accuracy with `learn.fit_one_cycle(1, 1e-1, moms=(0.8,0.7))`\n",
    "\n",
    "     epoch \ttrain_loss \tvalid_loss \taccuracy \tf_beta \ttime\n",
    "        0 \t0.508831 \t0.406110 \t0.907089 \t0.888122 \t18:41\n",
    "        \n",
    "By comparison, a smaller learning rate takes longer to get to similar accuracy (`learn.fit_one_cycle(1, 5e-2, moms=(0.8,0.7))`)\n",
    "\n",
    "    Total time: 25:38\n",
    "\n",
    "    epoch \ttrain_loss \tvalid_loss \taccuracy \ttime\n",
    "        0 \t0.451051 \t0.413487 \t0.909619 \t25:38\n"
   ]
  },
  {
   "cell_type": "markdown",
   "metadata": {},
   "source": [
    "### Evaluate some different learning rates:\n",
    "\n",
    "```python\n",
    "learn = text_classifier_learner(data_cl, AWD_LSTM, drop_mult=0.5, metrics=[accuracy, FBeta(average='weighted', beta=1)])\n",
    "learn.load_encoder(enc_file)\n",
    "learn.fit_one_cycle(1, 5e-1, moms=(0.8,0.7))\n",
    "```\n",
    "\n",
    "    epoch\ttrain_loss\tvalid_loss\taccuracy\tf_beta\ttime\n",
    "        0\t0.670215\t0.619886\t0.888246\t0.868050\t19:47\n",
    "\n",
    "```python\n",
    "learn = text_classifier_learner(data_cl, AWD_LSTM, drop_mult=0.5, metrics=[accuracy, FBeta(average='weighted', beta=1)])\n",
    "learn.load_encoder(enc_file)\n",
    "learn.fit_one_cycle(1, 1e-1, moms=(0.8,0.7))\n",
    "```\n",
    "\n",
    "    epoch\ttrain_loss\tvalid_loss\taccuracy\tf_beta\ttime\n",
    "        0\t0.496811\t0.436123\t0.902583\t0.884507\t19:41\n",
    "\n",
    "```python\n",
    "learn = text_classifier_learner(data_cl, AWD_LSTM, drop_mult=0.5, metrics=[accuracy, FBeta(average='weighted', beta=1)])\n",
    "learn.load_encoder(enc_file)\n",
    "learn.fit_one_cycle(1, 5e-2, moms=(0.8,0.7))\n",
    "```\n",
    "\n",
    "    epoch\ttrain_loss\tvalid_loss\taccuracy\tf_beta\ttime\n",
    "        0\t0.505160\t0.374866\t0.911137\t0.894657\t26:27\n",
    "        \n",
    "        \n",
    "```python\n",
    "learn = text_classifier_learner(data_cl, AWD_LSTM, drop_mult=0.5, metrics=[accuracy, FBeta(average='weighted', beta=1)])\n",
    "learn.load_encoder(enc_file)\n",
    "learn.fit_one_cycle(1, 1e-3, moms=(0.8,0.7))\n",
    "```\n",
    "\n",
    "    epoch\ttrain_loss\tvalid_loss\taccuracy\tf_beta\ttime\n",
    "        0\t0.638841\t0.539886\t0.887017\t0.861946\t21:33"
   ]
  },
  {
   "cell_type": "code",
   "execution_count": 16,
   "metadata": {},
   "outputs": [
    {
     "name": "stdout",
     "output_type": "stream",
     "text": [
      "loaded initial learner\n"
     ]
    }
   ],
   "source": [
    "if os.path.isfile(str(init_model_file) + '.pth'):\n",
    "    learn.load(init_model_file)\n",
    "    print('loaded initial learner')\n",
    "else:\n",
    "    print('Training new initial learner')\n",
    "    learn.fit_one_cycle(1, 5e-2, moms=(0.8,0.7),\n",
    "                       callbacks=[\n",
    "                           callbacks.CSVLogger(learn, filename=training_history_file, append=True)\n",
    "                       ])\n",
    "    print('Saving new learner')\n",
    "    learn.save(init_model_file)\n",
    "    print('Finished generating new learner')"
   ]
  },
  {
   "cell_type": "markdown",
   "metadata": {},
   "source": [
    "Now need to fine tune - try a few different learning rates for comparison\n",
    "\n",
    "```python\n",
    "learn.freeze_to(-2)\n",
    "learn.fit_one_cycle(1, slice(5e-2/(2.6**4),5e-2), moms=(0.8,0.7))\n",
    "```\n",
    "\n",
    "    epoch\ttrain_loss\tvalid_loss\taccuracy\tf_beta\ttime\n",
    "        0\t0.328557\t0.256304\t0.949039\t0.936714\t25:59\n",
    "        \n",
    "```python\n",
    "learn.freeze_to(-2)\n",
    "learn.fit_one_cycle(1, slice(1e-3/(2.6**4),1e-3), moms=(0.8,0.7))\n",
    "```\n",
    "\n",
    "    epoch\ttrain_loss\tvalid_loss\taccuracy\tf_beta\ttime\n",
    "        0\t0.394117\t0.348810\t0.922245\t0.904277\t24:41\n",
    "\n",
    "Went with 5e-2\n",
    "\n",
    "    Training new freeze_two learner\n",
    "    epoch\ttrain_loss\tvalid_loss\taccuracy\tf_beta\ttime\n",
    "        0\t0.349307\t0.255599\t0.947545\t0.935599\t22:15\n",
    "    Saving new freeze_two learner\n",
    "    Finished generating new freeze_two learner"
   ]
  },
  {
   "cell_type": "code",
   "execution_count": 17,
   "metadata": {},
   "outputs": [
    {
     "data": {
      "text/plain": [
       "True"
      ]
     },
     "execution_count": 17,
     "metadata": {},
     "output_type": "execute_result"
    }
   ],
   "source": [
    "os.path.isfile(str(freeze_two) + '.pth')\n",
    "#str(freeze_two) + '.pth'\n",
    "#os.path.isfile(str(freeze_three) + '.pth')\n",
    "#    learn.load(freeze_two)\n",
    "#    print('loaded freeze_two learner')"
   ]
  },
  {
   "cell_type": "code",
   "execution_count": 18,
   "metadata": {},
   "outputs": [
    {
     "name": "stdout",
     "output_type": "stream",
     "text": [
      "loaded freeze_two learner\n"
     ]
    }
   ],
   "source": [
    "if os.path.isfile(str(base_path / freeze_two) + '.pth'):\n",
    "    learn.load(freeze_two)\n",
    "    print('loaded freeze_two learner')\n",
    "else:\n",
    "    print('Training new freeze_two learner')\n",
    "    learn.freeze_to(-2)\n",
    "    learn.fit_one_cycle(1, slice(5e-2/(2.6**4),5e-2), moms=(0.8,0.7),\n",
    "                       callbacks=[\n",
    "                           callbacks.CSVLogger(learn, filename=training_history_file, append=True)\n",
    "                       ])\n",
    "    print('Saving new freeze_two learner')\n",
    "    learn.save(freeze_two)\n",
    "    print('Finished generating new freeze_two learner')"
   ]
  },
  {
   "cell_type": "markdown",
   "metadata": {},
   "source": [
    "Now compare a few different learning rates here as well\n",
    "\n",
    "```python\n",
    "learn.freeze_to(-3)\n",
    "learn.fit_one_cycle(1, slice(5e-2/(2.6**4),5e-2), moms=(0.8,0.7))\n",
    "```\n",
    "\n",
    "    epoch\ttrain_loss\tvalid_loss\taccuracy\tf_beta\ttime\n",
    "        0\t1.433470\t1.392961\t0.752084\t0.681817\t27:45\n",
    "\n",
    "```python\n",
    "learn.freeze_to(-3)\n",
    "learn.fit_one_cycle(1, slice(1e-2/(2.6**4),1e-2), moms=(0.8,0.7))\n",
    "```\n",
    "\n",
    "    epoch\ttrain_loss\tvalid_loss\taccuracy\tf_beta\ttime\n",
    "        0\t0.326875\t0.234437\t0.952749\t0.941585\t28:56\n",
    "        \n",
    "Went with 1e-2 and got this result next time:\n",
    "\n",
    "Training new freeze_three learner\n",
    "\n",
    "    epoch\ttrain_loss\tvalid_loss\taccuracy\tf_beta\ttime\n",
    "        0\t0.330733\t0.249801\t0.950749\t0.938834\t38:07\n",
    "        \n",
    "```python\n",
    "learn.load(freeze_two)\n",
    "learn.freeze_to(-3)\n",
    "learn.fit_one_cycle(1, slice(5e-3/(2.6**4),5e-3), moms=(0.8,0.7))\n",
    "```\n",
    "\n",
    "    epoch\ttrain_loss\tvalid_loss\taccuracy\tf_beta\ttime\n",
    "        0\t0.346814\t0.245426\t0.952026\t0.940811\t31:45"
   ]
  },
  {
   "cell_type": "code",
   "execution_count": 19,
   "metadata": {},
   "outputs": [
    {
     "name": "stdout",
     "output_type": "stream",
     "text": [
      "loaded freeze_three learner\n"
     ]
    }
   ],
   "source": [
    "if os.path.isfile(str(freeze_three) + '.pth'):\n",
    "    learn.load(freeze_three)\n",
    "    print('loaded freeze_three learner')\n",
    "else:\n",
    "    print('Training new freeze_three learner')\n",
    "    learn.freeze_to(-3)\n",
    "    learn.fit_one_cycle(1, slice(1e-2/(2.6**4),1e-2), moms=(0.8,0.7),\n",
    "                       callbacks=[\n",
    "                           callbacks.CSVLogger(learn, filename=training_history_file, append=True)\n",
    "                       ])\n",
    "    print('Saving new freeze_three learner')\n",
    "    learn.save(freeze_three)\n",
    "    print('Finished generating new freeze_three learner')"
   ]
  },
  {
   "cell_type": "code",
   "execution_count": 20,
   "metadata": {},
   "outputs": [],
   "source": [
    "learn.unfreeze()"
   ]
  },
  {
   "cell_type": "code",
   "execution_count": 21,
   "metadata": {},
   "outputs": [
    {
     "data": {
      "text/html": [],
      "text/plain": [
       "<IPython.core.display.HTML object>"
      ]
     },
     "metadata": {},
     "output_type": "display_data"
    },
    {
     "name": "stdout",
     "output_type": "stream",
     "text": [
      "LR Finder is complete, type {learner_name}.recorder.plot() to see the graph.\n"
     ]
    },
    {
     "data": {
      "image/png": "[encoded data removed]",
      "text/plain": [
       "<Figure size 432x288 with 1 Axes>"
      ]
     },
     "metadata": {
      "needs_background": "light"
     },
     "output_type": "display_data"
    }
   ],
   "source": [
    "learn.lr_find()\n",
    "learn.recorder.plot()"
   ]
  },
  {
   "cell_type": "code",
   "execution_count": 22,
   "metadata": {},
   "outputs": [],
   "source": [
    "release_mem()"
   ]
  },
  {
   "cell_type": "code",
   "execution_count": 23,
   "metadata": {},
   "outputs": [],
   "source": [
    "if os.path.isfile(cycles_file):\n",
    "    with open(cycles_file, 'rb') as f:\n",
    "        prev_cycles = pickle.load(f)\n",
    "    print('This model has been trained for', prev_cycles, 'epochs already')  \n",
    "else:\n",
    "    prev_cycles = 0"
   ]
  },
  {
   "cell_type": "markdown",
   "metadata": {},
   "source": [
    "    epoch \ttrain_loss \tvalid_loss \taccuracy \tf_beta \ttime\n",
    "        0 \t0.326372 \t0.248257 \t0.947810 \t0.939235 \t42:19\n",
    "        1 \t0.264299 \t0.233219 \t0.951448 \t0.941490 \t43:48\n",
    "        2 \t0.241548 \t0.217816 \t0.952870 \t0.942942 \t42:32\n",
    "        3 \t0.262864 \t0.202371 \t0.957014 \t0.947445 \t35:17\n",
    "        4 \t0.248916 \t0.201936 \t0.957111 \t0.948590 \t39:39\n",
    "        \n",
    "    epoch\ttrain_loss\tvalid_loss\taccuracy\tf_beta\ttime\n",
    "        0\t0.329066\t0.251686\t0.951111\t0.940551\t43:34\n",
    "        1\t0.350617\t0.238229\t0.951376\t0.940809\t43:02\n",
    "        2\t0.328881\t0.232468\t0.950966\t0.940160\t39:15\n",
    "        3\t0.291664\t0.220794\t0.954918\t0.944194\t41:08\n",
    "        4\t0.271011\t0.213012\t0.955568\t0.944835\t48:17\n",
    "        5\t0.231853\t0.207560\t0.956412\t0.945960\t42:27\n",
    "        6\t0.211285\t0.205632\t0.957159\t0.947107\t42:27"
   ]
  },
  {
   "cell_type": "code",
   "execution_count": 24,
   "metadata": {},
   "outputs": [
    {
     "data": {
      "text/html": [
       "<table border=\"1\" class=\"dataframe\">\n",
       "  <thead>\n",
       "    <tr style=\"text-align: left;\">\n",
       "      <th>epoch</th>\n",
       "      <th>train_loss</th>\n",
       "      <th>valid_loss</th>\n",
       "      <th>accuracy</th>\n",
       "      <th>f_beta</th>\n",
       "      <th>time</th>\n",
       "    </tr>\n",
       "  </thead>\n",
       "  <tbody>\n",
       "    <tr>\n",
       "      <td>0</td>\n",
       "      <td>0.329066</td>\n",
       "      <td>0.251686</td>\n",
       "      <td>0.951111</td>\n",
       "      <td>0.940551</td>\n",
       "      <td>43:34</td>\n",
       "    </tr>\n",
       "    <tr>\n",
       "      <td>1</td>\n",
       "      <td>0.350617</td>\n",
       "      <td>0.238229</td>\n",
       "      <td>0.951376</td>\n",
       "      <td>0.940809</td>\n",
       "      <td>43:02</td>\n",
       "    </tr>\n",
       "    <tr>\n",
       "      <td>2</td>\n",
       "      <td>0.328881</td>\n",
       "      <td>0.232468</td>\n",
       "      <td>0.950966</td>\n",
       "      <td>0.940160</td>\n",
       "      <td>39:15</td>\n",
       "    </tr>\n",
       "    <tr>\n",
       "      <td>3</td>\n",
       "      <td>0.291664</td>\n",
       "      <td>0.220794</td>\n",
       "      <td>0.954918</td>\n",
       "      <td>0.944194</td>\n",
       "      <td>41:08</td>\n",
       "    </tr>\n",
       "    <tr>\n",
       "      <td>4</td>\n",
       "      <td>0.271011</td>\n",
       "      <td>0.213012</td>\n",
       "      <td>0.955568</td>\n",
       "      <td>0.944835</td>\n",
       "      <td>48:17</td>\n",
       "    </tr>\n",
       "    <tr>\n",
       "      <td>5</td>\n",
       "      <td>0.231853</td>\n",
       "      <td>0.207560</td>\n",
       "      <td>0.956412</td>\n",
       "      <td>0.945960</td>\n",
       "      <td>42:27</td>\n",
       "    </tr>\n",
       "    <tr>\n",
       "      <td>6</td>\n",
       "      <td>0.211285</td>\n",
       "      <td>0.205632</td>\n",
       "      <td>0.957159</td>\n",
       "      <td>0.947107</td>\n",
       "      <td>42:27</td>\n",
       "    </tr>\n",
       "  </tbody>\n",
       "</table>"
      ],
      "text/plain": [
       "<IPython.core.display.HTML object>"
      ]
     },
     "metadata": {},
     "output_type": "display_data"
    }
   ],
   "source": [
    "num_cycles = 7\n",
    "\n",
    "file = ft_file + str(prev_cycles)\n",
    "learner_file = base_path/file\n",
    "callback_save_file = str(learner_file) + '_auto'\n",
    "\n",
    "learn.fit_one_cycle(num_cycles, slice(5e-3/(2.6**4),5e-3), moms=(0.8,0.7),\n",
    "                    callbacks=[\n",
    "                        callbacks.SaveModelCallback(learn, every='epoch', monitor='accuracy', name=callback_save_file),\n",
    "                        # CSVLogger only logs when num_cycles are complete\n",
    "                        callbacks.CSVLogger(learn, filename=training_history_file, append=True)\n",
    "                    ])\n",
    "file = ft_file + str(prev_cycles + num_cycles)\n",
    "learner_file = base_path/file\n",
    "learn.save(learner_file)\n",
    "\n",
    "with open(cycles_file, 'wb') as f:\n",
    "    pickle.dump(num_cycles + prev_cycles, f)\n",
    "release_mem()"
   ]
  },
  {
   "cell_type": "code",
   "execution_count": null,
   "metadata": {},
   "outputs": [],
   "source": []
  }
 ],
 "metadata": {
  "kernelspec": {
   "display_name": "Python (fastai)",
   "language": "python",
   "name": "fastai"
  },
  "language_info": {
   "codemirror_mode": {
    "name": "ipython",
    "version": 3
   },
   "file_extension": ".py",
   "mimetype": "text/x-python",
   "name": "python",
   "nbconvert_exporter": "python",
   "pygments_lexer": "ipython3",
   "version": "3.6.9"
  }
 },
 "nbformat": 4,
 "nbformat_minor": 4
}
